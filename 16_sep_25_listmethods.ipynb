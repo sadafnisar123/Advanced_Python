{
 "cells": [
  {
   "cell_type": "markdown",
   "id": "314243e6-7bda-4077-a969-89aad66c3934",
   "metadata": {},
   "source": [
    "# List Methods(Mutable)"
   ]
  },
  {
   "cell_type": "code",
   "execution_count": 56,
   "id": "b5e626d7-bbbc-49b7-8466-e27d3be6726f",
   "metadata": {},
   "outputs": [
    {
     "name": "stdout",
     "output_type": "stream",
     "text": [
      "[1, 2, 3, 4, 5, 6]\n"
     ]
    }
   ],
   "source": [
    "#It can be added, remove and update.\n",
    "list_1=[1, 2, 3, 4, 5]\n",
    "list_1.append(6)\n",
    "print(list_1)"
   ]
  },
  {
   "cell_type": "code",
   "execution_count": 4,
   "id": "e33cdaad-97be-49f5-aa69-de7ba68e0217",
   "metadata": {},
   "outputs": [
    {
     "name": "stdout",
     "output_type": "stream",
     "text": [
      "[1, 2, 45, 3, 4, 5]\n"
     ]
    }
   ],
   "source": [
    "list_1=[1, 2, 3, 4, 5]\n",
    "list_1.insert(2,45) #index, assign value\n",
    "print(list_1)"
   ]
  },
  {
   "cell_type": "code",
   "execution_count": 8,
   "id": "d9e44d0e-1c4c-4fb7-9841-e83f9d2eed25",
   "metadata": {},
   "outputs": [
    {
     "name": "stdout",
     "output_type": "stream",
     "text": [
      "[1, 2, 3, 4, 5, 6, 7, 8, 9, 10]\n",
      "[6, 7, 8, 9, 10, 1, 2, 3, 4, 5, 6, 7, 8, 9, 10]\n"
     ]
    }
   ],
   "source": [
    "list_1=[1, 2, 3, 4, 5]\n",
    "list_2=[6, 7, 8, 9, 10]\n",
    "list_1.extend(list_2)\n",
    "list_2.extend(list_1)\n",
    "print(list_1)\n",
    "print(list_2)\n"
   ]
  },
  {
   "cell_type": "code",
   "execution_count": 9,
   "id": "28590eff-ac51-4c9d-916c-129ce6d1d3fb",
   "metadata": {},
   "outputs": [
    {
     "name": "stdout",
     "output_type": "stream",
     "text": [
      "[6, 7, 8, 9, 10, 1, 2, 3, 4, 5]\n"
     ]
    }
   ],
   "source": [
    "list_1=[1, 2, 3, 4, 5]\n",
    "list_2=[6, 7, 8, 9, 10]\n",
    "list_2.extend(list_1)\n",
    "print(list_2)\n"
   ]
  },
  {
   "cell_type": "code",
   "execution_count": 11,
   "id": "464dfed0-4365-4133-b70e-274799bcfea3",
   "metadata": {},
   "outputs": [
    {
     "name": "stdout",
     "output_type": "stream",
     "text": [
      "[2, 3, 4, 5]\n"
     ]
    }
   ],
   "source": [
    "list_1=[1, 2, 3, 4, 5]\n",
    "list_1.remove(1) # remove is remove by value wise\n",
    "print(list_1)"
   ]
  },
  {
   "cell_type": "code",
   "execution_count": 12,
   "id": "7d412e3c-2581-4ac0-9b99-3175a1aebdfe",
   "metadata": {},
   "outputs": [
    {
     "name": "stdout",
     "output_type": "stream",
     "text": [
      "[1, 3, 4, 5]\n"
     ]
    }
   ],
   "source": [
    "list_1=[1, 2, 3, 4, 5]\n",
    "list_1.pop(1) #pop is remove by index value\n",
    "print(list_1)"
   ]
  },
  {
   "cell_type": "code",
   "execution_count": 14,
   "id": "564157bf-f315-43c9-b5e3-4c424bd0c757",
   "metadata": {},
   "outputs": [
    {
     "name": "stdout",
     "output_type": "stream",
     "text": [
      "2\n",
      "[1, 3, 4, 5]\n"
     ]
    }
   ],
   "source": [
    "list_1=[1, 2, 3, 4, 5]\n",
    "remove_item= list_1.pop(1)\n",
    "print(remove_item)\n",
    "print(list_1)"
   ]
  },
  {
   "cell_type": "code",
   "execution_count": 16,
   "id": "665031ba-dbf2-48ac-aa26-59113f4ecd3a",
   "metadata": {},
   "outputs": [
    {
     "name": "stdout",
     "output_type": "stream",
     "text": [
      "1\n"
     ]
    }
   ],
   "source": [
    "list_1=[1, 2, 3, 4, 5]\n",
    "list_1.index(2)\n",
    "print(list_1.index(2))"
   ]
  },
  {
   "cell_type": "code",
   "execution_count": 33,
   "id": "fd113c34-1ac1-484f-9b7a-aee3313c34d0",
   "metadata": {},
   "outputs": [
    {
     "name": "stdout",
     "output_type": "stream",
     "text": [
      "2\n"
     ]
    }
   ],
   "source": [
    "#wrong result\n",
    "list_1=[1, 2, 5, 3, 3, 5]\n",
    "list_1.index(5,2)\n",
    "print(list_1.index(5,2))\n",
    "\n"
   ]
  },
  {
   "cell_type": "code",
   "execution_count": 21,
   "id": "719379d7-9e08-452a-8446-93743253b3d8",
   "metadata": {},
   "outputs": [
    {
     "data": {
      "text/plain": [
       "3"
      ]
     },
     "execution_count": 21,
     "metadata": {},
     "output_type": "execute_result"
    }
   ],
   "source": [
    "list_1=[1, 2, 5, 3, 3, 3]\n",
    "list_1.count(3)"
   ]
  },
  {
   "cell_type": "code",
   "execution_count": 30,
   "id": "705f4f54-c85d-46c4-b299-ccb2139ae05b",
   "metadata": {},
   "outputs": [
    {
     "name": "stdout",
     "output_type": "stream",
     "text": [
      "1\n",
      "4\n"
     ]
    }
   ],
   "source": [
    "list_1=[1, 2, 3, 4, 2]\n",
    "print(list_1.index(2))\n",
    "print(list_1.index(2,2))\n"
   ]
  },
  {
   "cell_type": "code",
   "execution_count": 52,
   "id": "2faf5eba-84ac-4d84-82e4-d277e5eb1be3",
   "metadata": {},
   "outputs": [
    {
     "name": "stdout",
     "output_type": "stream",
     "text": [
      "2\n"
     ]
    }
   ],
   "source": [
    "list_1=[5, 6, 5, 8, 8]\n",
    "print(list_1.index(5, 2))"
   ]
  },
  {
   "cell_type": "code",
   "execution_count": 49,
   "id": "ea854a5d-747e-49c2-a590-d1185d4d1d08",
   "metadata": {},
   "outputs": [
    {
     "name": "stdout",
     "output_type": "stream",
     "text": [
      "3\n"
     ]
    }
   ],
   "source": [
    "list_1=['a', 'b', 'c','c', 'c', 'd']\n",
    "print(list_1.count('c'))"
   ]
  },
  {
   "cell_type": "code",
   "execution_count": 47,
   "id": "2ae23fe6-5b36-491c-a570-2362f1733ea4",
   "metadata": {},
   "outputs": [
    {
     "name": "stdout",
     "output_type": "stream",
     "text": [
      "None\n"
     ]
    }
   ],
   "source": [
    "num_1=[3, 8, 7, 2, 1, 9]\n",
    "print(num_1.sort())"
   ]
  },
  {
   "cell_type": "code",
   "execution_count": 50,
   "id": "4a693a83-e71b-4b1f-89e1-b419ad46e539",
   "metadata": {},
   "outputs": [
    {
     "name": "stdout",
     "output_type": "stream",
     "text": [
      "Ascending: [1, 2, 3, 7, 8, 9]\n"
     ]
    }
   ],
   "source": [
    "num_1=[3, 8, 7, 2, 1, 9]\n",
    "num_1.sort()\n",
    "print('Ascending:', num_1)"
   ]
  },
  {
   "cell_type": "code",
   "execution_count": 51,
   "id": "566f1d21-abad-4d66-b09c-f49451596b75",
   "metadata": {},
   "outputs": [
    {
     "name": "stdout",
     "output_type": "stream",
     "text": [
      "Ascending\n"
     ]
    }
   ],
   "source": [
    "num_1=[3, 8, 7, 2, 1, 9]\n",
    "num_1.sort()\n",
    "print('Ascending')"
   ]
  },
  {
   "cell_type": "code",
   "execution_count": 55,
   "id": "09e61d0a-db7f-44db-8c61-c944dad14ae8",
   "metadata": {},
   "outputs": [
    {
     "name": "stdout",
     "output_type": "stream",
     "text": [
      "Decending: [9, 8, 7, 3, 2, 1]\n"
     ]
    }
   ],
   "source": [
    "num_1=[3, 8, 7, 2, 1, 9]\n",
    "num_1.sort(reverse=True)\n",
    "print('Decending:', num_1)"
   ]
  },
  {
   "cell_type": "code",
   "execution_count": null,
   "id": "a4914d90-e91c-44fd-8746-8deaaa02cd14",
   "metadata": {},
   "outputs": [],
   "source": []
  },
  {
   "cell_type": "code",
   "execution_count": null,
   "id": "c3af1046-fe52-4680-9db8-c2a34af0293d",
   "metadata": {},
   "outputs": [],
   "source": []
  }
 ],
 "metadata": {
  "kernelspec": {
   "display_name": "Python 3 (ipykernel)",
   "language": "python",
   "name": "python3"
  },
  "language_info": {
   "codemirror_mode": {
    "name": "ipython",
    "version": 3
   },
   "file_extension": ".py",
   "mimetype": "text/x-python",
   "name": "python",
   "nbconvert_exporter": "python",
   "pygments_lexer": "ipython3",
   "version": "3.13.5"
  }
 },
 "nbformat": 4,
 "nbformat_minor": 5
}
