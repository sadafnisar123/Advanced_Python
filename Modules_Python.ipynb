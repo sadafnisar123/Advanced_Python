{
 "cells": [
  {
   "cell_type": "markdown",
   "id": "b5dbcdb5",
   "metadata": {},
   "source": [
    "# Exploring the math Module"
   ]
  },
  {
   "cell_type": "code",
   "execution_count": 1,
   "id": "26ffd4d0",
   "metadata": {},
   "outputs": [
    {
     "name": "stdout",
     "output_type": "stream",
     "text": [
      "4.0\n"
     ]
    }
   ],
   "source": [
    "import math\n",
    "print(math.sqrt(16))"
   ]
  },
  {
   "cell_type": "code",
   "execution_count": 2,
   "id": "c6b68bf4",
   "metadata": {},
   "outputs": [
    {
     "name": "stdout",
     "output_type": "stream",
     "text": [
      "8.0\n"
     ]
    }
   ],
   "source": [
    "import math\n",
    "print(math.pow(2, 3))"
   ]
  },
  {
   "cell_type": "code",
   "execution_count": null,
   "id": "f2b52d7c",
   "metadata": {},
   "outputs": [
    {
     "name": "stdout",
     "output_type": "stream",
     "text": [
      "6\n"
     ]
    }
   ],
   "source": [
    "import math\n",
    "print(math.ceil(5.6))   # ceil means Round up"
   ]
  },
  {
   "cell_type": "code",
   "execution_count": null,
   "id": "25fba8df",
   "metadata": {},
   "outputs": [
    {
     "name": "stdout",
     "output_type": "stream",
     "text": [
      "5\n"
     ]
    }
   ],
   "source": [
    "import math\n",
    "print(math.floor(5.3))   #floor means Round down"
   ]
  },
  {
   "cell_type": "code",
   "execution_count": null,
   "id": "7be538c9",
   "metadata": {},
   "outputs": [
    {
     "name": "stdout",
     "output_type": "stream",
     "text": [
      "3.141592653589793\n"
     ]
    }
   ],
   "source": [
    "import math\n",
    "print(math.pi)     #math.pi for constant values"
   ]
  },
  {
   "cell_type": "code",
   "execution_count": 11,
   "id": "dd88b7fd",
   "metadata": {},
   "outputs": [
    {
     "name": "stdout",
     "output_type": "stream",
     "text": [
      "-0.3048106211022167\n",
      "-0.7727644875559871\n"
     ]
    }
   ],
   "source": [
    "import math\n",
    "print(math.sin(60))\n",
    "\n",
    "import math\n",
    "print(math.sin(5.4))"
   ]
  },
  {
   "cell_type": "code",
   "execution_count": 12,
   "id": "7c447bcf",
   "metadata": {},
   "outputs": [
    {
     "name": "stdout",
     "output_type": "stream",
     "text": [
      "0.5253219888177297\n"
     ]
    }
   ],
   "source": [
    "import math\n",
    "print(math.cos(45))"
   ]
  },
  {
   "cell_type": "code",
   "execution_count": 13,
   "id": "221808ac",
   "metadata": {},
   "outputs": [
    {
     "name": "stdout",
     "output_type": "stream",
     "text": [
      "1.6197751905438615\n"
     ]
    }
   ],
   "source": [
    "import math\n",
    "print(math.tan(45))"
   ]
  },
  {
   "cell_type": "code",
   "execution_count": 16,
   "id": "1840c645",
   "metadata": {},
   "outputs": [
    {
     "name": "stdout",
     "output_type": "stream",
     "text": [
      "3.2088254890146994\n",
      "1.2347444629926896\n"
     ]
    }
   ],
   "source": [
    "import math\n",
    "print(math.log(4.5*5.5))\n",
    "\n",
    "import math\n",
    "print(math.log(4.5*5.5/7.2))"
   ]
  },
  {
   "cell_type": "code",
   "execution_count": null,
   "id": "d32ee780",
   "metadata": {},
   "outputs": [
    {
     "name": "stdout",
     "output_type": "stream",
     "text": [
      "0.5362427068383191\n"
     ]
    }
   ],
   "source": [
    "import math\n",
    "print(math.log10(4.5*5.5/7.2))    #log10 is base 10 log"
   ]
  },
  {
   "cell_type": "code",
   "execution_count": 18,
   "id": "6573ca82",
   "metadata": {},
   "outputs": [
    {
     "name": "stdout",
     "output_type": "stream",
     "text": [
      "0.8660254037844386\n"
     ]
    }
   ],
   "source": [
    "import math\n",
    "print(math.sin(math.radians(60)))"
   ]
  },
  {
   "cell_type": "code",
   "execution_count": 20,
   "id": "5b89edba",
   "metadata": {},
   "outputs": [
    {
     "name": "stdout",
     "output_type": "stream",
     "text": [
      "78.53981633974483\n"
     ]
    }
   ],
   "source": [
    "#Area\n",
    "import math\n",
    "r=5\n",
    "area= math.pi*r**2\n",
    "print(area)"
   ]
  },
  {
   "cell_type": "code",
   "execution_count": 23,
   "id": "c8fcd6fd",
   "metadata": {},
   "outputs": [
    {
     "name": "stdout",
     "output_type": "stream",
     "text": [
      "78.53981633974483\n"
     ]
    }
   ],
   "source": [
    "import math\n",
    "r=5\n",
    "print(math.pi*r**2)"
   ]
  },
  {
   "cell_type": "code",
   "execution_count": 24,
   "id": "8ae63a6c",
   "metadata": {},
   "outputs": [
    {
     "name": "stdout",
     "output_type": "stream",
     "text": [
      "1.0119683759071383\n"
     ]
    }
   ],
   "source": [
    "import math \n",
    "print(math.sin(30)+ math.log10(100))"
   ]
  },
  {
   "cell_type": "code",
   "execution_count": null,
   "id": "259d2af5",
   "metadata": {},
   "outputs": [
    {
     "name": "stdout",
     "output_type": "stream",
     "text": [
      "7.3890560989306495\n"
     ]
    }
   ],
   "source": [
    "import math\n",
    "print(math.e**2)    # math.e for constants e.g e**1= ..... or e**2= 7.38 so this is constant"
   ]
  },
  {
   "cell_type": "code",
   "execution_count": 2,
   "id": "b744d4f6",
   "metadata": {},
   "outputs": [
    {
     "name": "stdout",
     "output_type": "stream",
     "text": [
      "📘 Smart Math Generator started at: 2025-10-08 14:58:17.443579\n",
      "\n",
      "Random radius = 6.01\n",
      "Area = 113.40, Circumference = 37.75\n",
      "\n",
      "Angle = 84° → sin = 0.99, cos = 0.10\n",
      "\n",
      "Exponential growth value: 2.718\n"
     ]
    }
   ],
   "source": [
    "import math\n",
    "import random\n",
    "import datetime\n",
    "\n",
    "print(\"📘 Smart Math Generator started at:\", datetime.datetime.now())\n",
    "\n",
    "# 1. Generate a random radius between 1 and 10\n",
    "radius = random.uniform(1, 10)\n",
    "print(f\"\\nRandom radius = {radius:.2f}\")\n",
    "\n",
    "# 2. Calculate circle area and circumference\n",
    "area = math.pi * radius**2\n",
    "circum = 2 * math.pi * radius\n",
    "print(f\"Area = {area:.2f}, Circumference = {circum:.2f}\")\n",
    "\n",
    "# 3. Generate a random angle and compute sin, cos\n",
    "angle = random.randint(0, 90)\n",
    "radians = math.radians(angle)\n",
    "print(f\"\\nAngle = {angle}° → sin = {math.sin(radians):.2f}, cos = {math.cos(radians):.2f}\")\n",
    "\n",
    "# 4. Show exponential growth using math.e\n",
    "growth = math.exp(random.randint(1, 3))\n",
    "print(f\"\\nExponential growth value: {growth:.3f}\")\n"
   ]
  },
  {
   "cell_type": "code",
   "execution_count": null,
   "id": "df3e0a09",
   "metadata": {},
   "outputs": [],
   "source": []
  }
 ],
 "metadata": {
  "kernelspec": {
   "display_name": "Python 3",
   "language": "python",
   "name": "python3"
  },
  "language_info": {
   "codemirror_mode": {
    "name": "ipython",
    "version": 3
   },
   "file_extension": ".py",
   "mimetype": "text/x-python",
   "name": "python",
   "nbconvert_exporter": "python",
   "pygments_lexer": "ipython3",
   "version": "3.13.7"
  }
 },
 "nbformat": 4,
 "nbformat_minor": 5
}
