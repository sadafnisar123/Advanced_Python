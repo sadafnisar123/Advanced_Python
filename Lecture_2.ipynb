{
 "cells": [
  {
   "cell_type": "markdown",
   "id": "515a44aa",
   "metadata": {},
   "source": [
    "# Commemting in Python:"
   ]
  },
  {
   "cell_type": "code",
   "execution_count": 1,
   "id": "e17e8670",
   "metadata": {},
   "outputs": [
    {
     "name": "stdout",
     "output_type": "stream",
     "text": [
      "6\n"
     ]
    }
   ],
   "source": [
    "#Program to add two numbers\n",
    "a=1\n",
    "b=5\n",
    "print (a+b)"
   ]
  },
  {
   "cell_type": "markdown",
   "id": "773eb1e2",
   "metadata": {},
   "source": [
    "# Data types:"
   ]
  },
  {
   "cell_type": "code",
   "execution_count": 2,
   "id": "410699ac",
   "metadata": {},
   "outputs": [
    {
     "name": "stdout",
     "output_type": "stream",
     "text": [
      "<class 'int'>\n"
     ]
    }
   ],
   "source": [
    "# Integer data type:\n",
    "r=466\n",
    "print(type(r))"
   ]
  },
  {
   "cell_type": "code",
   "execution_count": 3,
   "id": "b2a93630",
   "metadata": {},
   "outputs": [
    {
     "name": "stdout",
     "output_type": "stream",
     "text": [
      "My name is Sadaf\n",
      "<class 'str'>\n"
     ]
    }
   ],
   "source": [
    "# String data type:\n",
    "name= \"My name is Sadaf\"\n",
    "print(name)\n",
    "print(type(name))"
   ]
  },
  {
   "cell_type": "code",
   "execution_count": 4,
   "id": "9131002f",
   "metadata": {},
   "outputs": [
    {
     "name": "stdout",
     "output_type": "stream",
     "text": [
      "I am living in Islamabad\n",
      "<class 'str'>\n"
     ]
    }
   ],
   "source": [
    "# String data type:\n",
    "City= \"I am living in Islamabad\"\n",
    "print(City)\n",
    "print(type(City))"
   ]
  },
  {
   "cell_type": "markdown",
   "id": "797000d2",
   "metadata": {},
   "source": [
    "# Arithematic Operations:"
   ]
  },
  {
   "cell_type": "code",
   "execution_count": 5,
   "id": "1f90db92",
   "metadata": {},
   "outputs": [
    {
     "name": "stdout",
     "output_type": "stream",
     "text": [
      "80\n",
      "0\n",
      "1600\n",
      "8.333333333333334\n",
      "8\n",
      "1\n",
      "27\n"
     ]
    }
   ],
   "source": [
    "# Addition\n",
    "print(40+40)\n",
    "# Substraction\n",
    "print(40-40)\n",
    "# Multiplication\n",
    "print(40*40)\n",
    "# Division Flaot Integer Value\n",
    "print(50/6)\n",
    "# Division Integer Value\n",
    "print(50//6)\n",
    "# Modulus\n",
    "print(29%7)\n",
    "# Power\n",
    "print(3**3)\n",
    "\n"
   ]
  },
  {
   "cell_type": "markdown",
   "id": "b0bca89c",
   "metadata": {},
   "source": [
    "# Assignment Operators:"
   ]
  },
  {
   "cell_type": "code",
   "execution_count": 6,
   "id": "3305e345",
   "metadata": {},
   "outputs": [
    {
     "name": "stdout",
     "output_type": "stream",
     "text": [
      "82\n",
      "-2\n"
     ]
    }
   ],
   "source": [
    "# Add and Assign\n",
    "a=40\n",
    "a+=42\n",
    "print(a)\n",
    "# Subtract and Assign\n",
    "a=40\n",
    "a-=42\n",
    "print(a)"
   ]
  },
  {
   "cell_type": "markdown",
   "id": "69d06c79",
   "metadata": {},
   "source": [
    "# Comparison Operator:"
   ]
  },
  {
   "cell_type": "code",
   "execution_count": 7,
   "id": "f0d2afd1",
   "metadata": {},
   "outputs": [
    {
     "name": "stdout",
     "output_type": "stream",
     "text": [
      "False\n",
      "False\n",
      "True\n"
     ]
    }
   ],
   "source": [
    "# Equal:\n",
    "print(4==5)\n",
    "# Greater or Equal:\n",
    "print(4>=5)\n",
    "# Lesser and Equal:\n",
    "print(4<=5)\n"
   ]
  },
  {
   "cell_type": "markdown",
   "id": "f6788161",
   "metadata": {},
   "source": [
    "# Logical Operators:\n"
   ]
  },
  {
   "cell_type": "code",
   "execution_count": 8,
   "id": "f0492c12",
   "metadata": {},
   "outputs": [
    {
     "name": "stdout",
     "output_type": "stream",
     "text": [
      "Hello\n",
      "Hey\n",
      "False\n",
      "Morning\n",
      "Morning\n",
      "False\n"
     ]
    }
   ],
   "source": [
    "# And\n",
    "print(\"Hello\" and \"Hello\" )\n",
    "# And\n",
    "print(\"Hello\" and \"Hey\")\n",
    "# And\n",
    "print(4==5 and 4<=5)\n",
    "# OR\n",
    "print(\"Morning\" or \"Morning\")\n",
    "print(\"Morning\" or \"Evening\")\n",
    "print(4==5 or 4>=5)"
   ]
  },
  {
   "cell_type": "markdown",
   "id": "e8c90e1f",
   "metadata": {},
   "source": [
    "# Implicit Data Type Conversion:"
   ]
  },
  {
   "cell_type": "code",
   "execution_count": 9,
   "id": "09c42f4d",
   "metadata": {},
   "outputs": [
    {
     "name": "stdout",
     "output_type": "stream",
     "text": [
      "365.723\n",
      "4.0\n",
      "0.05\n"
     ]
    }
   ],
   "source": [
    "print(45.723+320)\n",
    "print(20/5)\n",
    "print(0.25/5)"
   ]
  },
  {
   "cell_type": "markdown",
   "id": "a303a8aa",
   "metadata": {},
   "source": [
    "# Explicit Data Type Conversion:"
   ]
  },
  {
   "cell_type": "code",
   "execution_count": 10,
   "id": "db14b52c",
   "metadata": {},
   "outputs": [
    {
     "name": "stdout",
     "output_type": "stream",
     "text": [
      "<class 'str'>\n",
      "156\n",
      "<class 'int'>\n",
      "156\n",
      "<class 'float'>\n",
      "156.0\n",
      "<class 'str'>\n",
      "156.0\n",
      "<class 'str'>\n",
      "Sadaf\n",
      "<class 'str'>\n",
      "Sadaf\n",
      "<class 'int'>\n",
      "159\n",
      "<class 'int'>\n",
      "159\n",
      "<class 'float'>\n",
      "159.0\n",
      "<class 'str'>\n",
      "159.0\n"
     ]
    }
   ],
   "source": [
    "a=\"156\"\n",
    "print(type(a))\n",
    "print(a)\n",
    "a=int(a)\n",
    "print(type(a))\n",
    "print(a)\n",
    "a=float(a)\n",
    "print(type(a))\n",
    "print(a)\n",
    "a=str(a)\n",
    "print(type(a))\n",
    "print(a)\n",
    "# all exist\n",
    "\n",
    "b=\"Sadaf\"\n",
    "print(type(b))\n",
    "print(b)\n",
    "b=str(b)\n",
    "print(type(b))\n",
    "print(b)\n",
    "# interger and floating point donot exist.\n",
    "\n",
    "c=159\n",
    "print(type(c))\n",
    "print(c)\n",
    "c=int(c)\n",
    "print(type(c))\n",
    "print(c)\n",
    "c=float(c)\n",
    "print(type(c))\n",
    "print(c)\n",
    "c=str(c)\n",
    "print(type(c))\n",
    "print(c)\n",
    "# all integer, floating and string exist."
   ]
  },
  {
   "cell_type": "markdown",
   "id": "52d77471",
   "metadata": {},
   "source": [
    "# Exercise Print Command:\n",
    "# Print Your Name and Age\n",
    "# Print Text on Multiple Lines\n",
    "# Print Using Variables"
   ]
  },
  {
   "cell_type": "code",
   "execution_count": 11,
   "id": "6c18a352",
   "metadata": {},
   "outputs": [
    {
     "name": "stdout",
     "output_type": "stream",
     "text": [
      "My name is Ali.\n",
      "I am 25 years old.\n",
      "My name is Ahmed. \n",
      " I am 27 years old.\n",
      "I have studied at QAU.\n",
      "I have completed my MPhil from mathematics department.\n"
     ]
    }
   ],
   "source": [
    "name=\"My name is Ali.\\nI am 25 years old.\"\n",
    "print(name)\n",
    "name=\"My name is Ahmed. \\n I am 27 years old.\"\n",
    "print(name)\n",
    "\n",
    "uni=\"I have studied at QAU.\\nI have completed my MPhil from mathematics department.\"\n",
    "print(uni)"
   ]
  },
  {
   "cell_type": "markdown",
   "id": "0ac856bd",
   "metadata": {},
   "source": [
    "# Exercise"
   ]
  },
  {
   "cell_type": "markdown",
   "id": "59b4d286",
   "metadata": {},
   "source": [
    "# Input Command:"
   ]
  },
  {
   "cell_type": "code",
   "execution_count": 12,
   "id": "3937248b",
   "metadata": {},
   "outputs": [
    {
     "name": "stdout",
     "output_type": "stream",
     "text": [
      "what is your name?Sadaf\n",
      "Good Morning Sadaf !\n",
      "where i am living?Islamabad\n",
      "Islamabad\n",
      "First three even numbers0, 2, 4\n",
      "0, 2, 4\n",
      "Odd1, 3, 5\n",
      "1, 3, 5\n",
      "Even0, 2, 4\n",
      "0, 2, 4\n"
     ]
    }
   ],
   "source": [
    "name= input(\"what is your name?\")\n",
    "print(\"Good Morning\", name, \"!\")\n",
    "\n",
    "location=input(\"where i am living?\")\n",
    "print(location)\n",
    "\n",
    "num=input(\"First three even numbers\")\n",
    "print(num)\n",
    "\n",
    "num1=input(\"Even\" and \"Odd\")\n",
    "print(num1)\n",
    "# AND operator gives us second one.\n",
    "\n",
    "num2=input(\"Even\" or \"Odd\")\n",
    "print(num2)\n",
    "# OR operator gives us first one."
   ]
  },
  {
   "cell_type": "code",
   "execution_count": 13,
   "id": "b02178c1",
   "metadata": {},
   "outputs": [
    {
     "name": "stdout",
     "output_type": "stream",
     "text": [
      "Enter 1st number:25\n",
      "Enter 2nd number:25\n",
      "Sum is: 50\n"
     ]
    }
   ],
   "source": [
    "num1=int(input(\"Enter 1st number:\"))\n",
    "num2=int(input(\"Enter 2nd number:\"))\n",
    "sum=num1+num2\n",
    "print(\"Sum is:\", sum)"
   ]
  },
  {
   "cell_type": "code",
   "execution_count": 14,
   "id": "7191fa32",
   "metadata": {},
   "outputs": [
    {
     "name": "stdout",
     "output_type": "stream",
     "text": [
      "what is your name?Sadaf\n",
      "Good Morning Sadaf !\n"
     ]
    }
   ],
   "source": [
    "name= input(\"what is your name?\")\n",
    "print(\"Good Morning\", name, \"!\")"
   ]
  },
  {
   "cell_type": "code",
   "execution_count": 15,
   "id": "ae2e9316",
   "metadata": {},
   "outputs": [
    {
     "name": "stdout",
     "output_type": "stream",
     "text": [
      "sum is 50\n"
     ]
    }
   ],
   "source": [
    "num1=int(num1)\n",
    "num2=int(num2)\n",
    "sum=num1+num2\n",
    "print(\"sum is\", sum)"
   ]
  },
  {
   "cell_type": "code",
   "execution_count": 16,
   "id": "eecd1ed0",
   "metadata": {},
   "outputs": [
    {
     "name": "stdout",
     "output_type": "stream",
     "text": [
      "Enter 1st number4\n",
      "Enter 2nd number5\n",
      "16\n",
      "25\n"
     ]
    }
   ],
   "source": [
    "num1=int(input(\"Enter 1st number\"))\n",
    "num2=int(input(\"Enter 2nd number\"))\n",
    "print(num1**2)\n",
    "print(num2**2)"
   ]
  },
  {
   "cell_type": "code",
   "execution_count": 17,
   "id": "4e35b776",
   "metadata": {},
   "outputs": [
    {
     "name": "stdout",
     "output_type": "stream",
     "text": [
      "Enter first number6\n",
      "Enter second number5\n",
      "multiple is 30\n"
     ]
    }
   ],
   "source": [
    "# 1st way\n",
    "num1=int(input(\"Enter first number\"))\n",
    "num2=int(input(\"Enter second number\"))\n",
    "multiple=num1*num2\n",
    "print(\"multiple is\", multiple)"
   ]
  },
  {
   "cell_type": "code",
   "execution_count": 18,
   "id": "a1aac379",
   "metadata": {},
   "outputs": [
    {
     "name": "stdout",
     "output_type": "stream",
     "text": [
      "Enter first number6\n",
      "Enter second number5\n",
      "30\n"
     ]
    }
   ],
   "source": [
    "# 2nd way\n",
    "num1=int(input(\"Enter first number\"))\n",
    "num2=int(input(\"Enter second number\"))\n",
    "print(num1*num2)"
   ]
  },
  {
   "cell_type": "code",
   "execution_count": 19,
   "id": "8e3413fb",
   "metadata": {},
   "outputs": [
    {
     "name": "stdout",
     "output_type": "stream",
     "text": [
      "Enter 1st number35\n",
      "Enter 2nd number4\n",
      "3\n",
      "Enter 1st number25\n",
      "Enter 2nd number5\n",
      "remainder is 0\n"
     ]
    }
   ],
   "source": [
    "a=int(input(\"Enter 1st number\"))\n",
    "b=int(input(\"Enter 2nd number\"))\n",
    "print(a%b)\n",
    "# or\n",
    "a=int(input(\"Enter 1st number\"))\n",
    "b=int(input(\"Enter 2nd number\"))\n",
    "remainder=(a%b)\n",
    "print(\"remainder is\", remainder)"
   ]
  },
  {
   "cell_type": "code",
   "execution_count": 20,
   "id": "92e16068",
   "metadata": {},
   "outputs": [
    {
     "name": "stdout",
     "output_type": "stream",
     "text": [
      "Enter 1st number42\n",
      "Enter 2nd number4\n",
      "2.0\n"
     ]
    }
   ],
   "source": [
    "a=float(input(\"Enter 1st number\"))\n",
    "b=float(input(\"Enter 2nd number\"))\n",
    "print(a%b)"
   ]
  },
  {
   "cell_type": "markdown",
   "id": "167bd16c",
   "metadata": {},
   "source": [
    "# EXTRA CLASS"
   ]
  },
  {
   "cell_type": "code",
   "execution_count": 2,
   "id": "64de72d2",
   "metadata": {},
   "outputs": [
    {
     "name": "stdout",
     "output_type": "stream",
     "text": [
      "what is your name?\n",
      "what is your age?25\n",
      "25\n"
     ]
    }
   ],
   "source": [
    "name=input(\"what is your name?\\nwhat is your age?\")\n",
    "print(name)"
   ]
  },
  {
   "cell_type": "code",
   "execution_count": 3,
   "id": "30033447",
   "metadata": {},
   "outputs": [
    {
     "name": "stdout",
     "output_type": "stream",
     "text": [
      "what is your name?Sadaf Nisar\n",
      "what is your age?25\n"
     ]
    }
   ],
   "source": [
    "name=input(\"what is your name?\")\n",
    "age=input(\"what is your age?\")"
   ]
  },
  {
   "cell_type": "markdown",
   "id": "22738b56",
   "metadata": {},
   "source": [
    "# Slicing"
   ]
  },
  {
   "cell_type": "code",
   "execution_count": 8,
   "id": "e5779f71",
   "metadata": {},
   "outputs": [
    {
     "name": "stdout",
     "output_type": "stream",
     "text": [
      "[2, 3]\n",
      "[6, 7]\n"
     ]
    }
   ],
   "source": [
    "a=[1, 2, 3, 4, 5]\n",
    "sliced=a[1:3]\n",
    "print(sliced)\n",
    "\n",
    "b=[5, 6, 7, 8, 9, 10]\n",
    "sliced=b[1:3]\n",
    "print(sliced)\n",
    "\n",
    "c=[]"
   ]
  },
  {
   "cell_type": "markdown",
   "id": "59df0feb",
   "metadata": {},
   "source": [
    "# String Membership"
   ]
  },
  {
   "cell_type": "code",
   "execution_count": 10,
   "id": "4867c4ac",
   "metadata": {},
   "outputs": [
    {
     "name": "stdout",
     "output_type": "stream",
     "text": [
      "True\n",
      "True\n"
     ]
    }
   ],
   "source": [
    "# in and not in\n",
    "sen=\"I am sadaf\"\n",
    "print(\"sadaf\" in sen)\n",
    "print(\"are\" not in sen)"
   ]
  },
  {
   "cell_type": "code",
   "execution_count": null,
   "id": "19c4cf15",
   "metadata": {},
   "outputs": [],
   "source": []
  }
 ],
 "metadata": {
  "kernelspec": {
   "display_name": "Python 3 (ipykernel)",
   "language": "python",
   "name": "python3"
  },
  "language_info": {
   "codemirror_mode": {
    "name": "ipython",
    "version": 3
   },
   "file_extension": ".py",
   "mimetype": "text/x-python",
   "name": "python",
   "nbconvert_exporter": "python",
   "pygments_lexer": "ipython3",
   "version": "3.11.4"
  }
 },
 "nbformat": 4,
 "nbformat_minor": 5
}
