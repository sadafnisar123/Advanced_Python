{
 "cells": [
  {
   "cell_type": "markdown",
   "id": "e288a866",
   "metadata": {},
   "source": [
    "# Commemting in Python:"
   ]
  },
  {
   "cell_type": "code",
   "execution_count": 1,
   "id": "d27e5d94",
   "metadata": {},
   "outputs": [
    {
     "name": "stdout",
     "output_type": "stream",
     "text": [
      "6\n"
     ]
    }
   ],
   "source": [
    "#Program to add two numbers\n",
    "a=1\n",
    "b=5\n",
    "print (a+b)"
   ]
  },
  {
   "cell_type": "markdown",
   "id": "8b6369e3",
   "metadata": {},
   "source": [
    "# Data types:"
   ]
  },
  {
   "cell_type": "code",
   "execution_count": 2,
   "id": "8cdcd2df",
   "metadata": {},
   "outputs": [
    {
     "name": "stdout",
     "output_type": "stream",
     "text": [
      "<class 'int'>\n"
     ]
    }
   ],
   "source": [
    "# Integer data type:\n",
    "r=466\n",
    "print(type(r))"
   ]
  },
  {
   "cell_type": "code",
   "execution_count": 3,
   "id": "c0ce5cfc",
   "metadata": {},
   "outputs": [
    {
     "name": "stdout",
     "output_type": "stream",
     "text": [
      "My name is Sadaf\n",
      "<class 'str'>\n"
     ]
    }
   ],
   "source": [
    "# String data type:\n",
    "name= \"My name is Sadaf\"\n",
    "print(name)\n",
    "print(type(name))"
   ]
  },
  {
   "cell_type": "code",
   "execution_count": 4,
   "id": "842c90c2",
   "metadata": {},
   "outputs": [
    {
     "name": "stdout",
     "output_type": "stream",
     "text": [
      "I am living in Islamabad\n",
      "<class 'str'>\n"
     ]
    }
   ],
   "source": [
    "# String data type:\n",
    "City= \"I am living in Islamabad\"\n",
    "print(City)\n",
    "print(type(City))"
   ]
  },
  {
   "cell_type": "markdown",
   "id": "b8748cef",
   "metadata": {},
   "source": [
    "# Arithematic Operations:"
   ]
  },
  {
   "cell_type": "code",
   "execution_count": 5,
   "id": "d80c3ca8",
   "metadata": {},
   "outputs": [
    {
     "name": "stdout",
     "output_type": "stream",
     "text": [
      "80\n",
      "0\n",
      "1600\n",
      "8.333333333333334\n",
      "8\n",
      "1\n",
      "27\n"
     ]
    }
   ],
   "source": [
    "# Addition\n",
    "print(40+40)\n",
    "# Substraction\n",
    "print(40-40)\n",
    "# Multiplication\n",
    "print(40*40)\n",
    "# Division Flaot Integer Value\n",
    "print(50/6)\n",
    "# Division Integer Value\n",
    "print(50//6)\n",
    "# Modulus\n",
    "print(29%7)\n",
    "# Power\n",
    "print(3**3)\n",
    "\n"
   ]
  },
  {
   "cell_type": "markdown",
   "id": "66456815",
   "metadata": {},
   "source": [
    "# Assignment Operators:"
   ]
  },
  {
   "cell_type": "code",
   "execution_count": 6,
   "id": "61fd131e",
   "metadata": {},
   "outputs": [
    {
     "name": "stdout",
     "output_type": "stream",
     "text": [
      "82\n",
      "-2\n"
     ]
    }
   ],
   "source": [
    "# Add and Assign\n",
    "a=40\n",
    "a+=42\n",
    "print(a)\n",
    "# Subtract and Assign\n",
    "a=40\n",
    "a-=42\n",
    "print(a)"
   ]
  },
  {
   "cell_type": "markdown",
   "id": "3223bbdd",
   "metadata": {},
   "source": [
    "# Comparison Operator:"
   ]
  },
  {
   "cell_type": "code",
   "execution_count": 7,
   "id": "add7a107",
   "metadata": {},
   "outputs": [
    {
     "name": "stdout",
     "output_type": "stream",
     "text": [
      "False\n",
      "False\n",
      "True\n"
     ]
    }
   ],
   "source": [
    "# Equal:\n",
    "print(4==5)\n",
    "# Greater or Equal:\n",
    "print(4>=5)\n",
    "# Lesser and Equal:\n",
    "print(4<=5)\n"
   ]
  },
  {
   "cell_type": "markdown",
   "id": "87fd05e4",
   "metadata": {},
   "source": [
    "# Logical Operators:\n"
   ]
  },
  {
   "cell_type": "code",
   "execution_count": 8,
   "id": "e5b76f26",
   "metadata": {},
   "outputs": [
    {
     "name": "stdout",
     "output_type": "stream",
     "text": [
      "Hello\n",
      "Hey\n",
      "False\n"
     ]
    }
   ],
   "source": [
    "# And\n",
    "print(\"Hello\" and \"Hello\" )\n",
    "# And\n",
    "print(\"Hello\" and \"Hey\")\n",
    "# And\n",
    "print(4==5 and 4<=5)\n"
   ]
  },
  {
   "cell_type": "markdown",
   "id": "4d17e5bd",
   "metadata": {},
   "source": [
    "# Implicit Data Type Conversion:"
   ]
  },
  {
   "cell_type": "code",
   "execution_count": 9,
   "id": "2661e547",
   "metadata": {},
   "outputs": [
    {
     "name": "stdout",
     "output_type": "stream",
     "text": [
      "365.723\n",
      "4.0\n"
     ]
    }
   ],
   "source": [
    "print(45.723+320)\n",
    "print(20/5)"
   ]
  },
  {
   "cell_type": "markdown",
   "id": "99ad828e",
   "metadata": {},
   "source": [
    "# Explicit Data Type Conversion:"
   ]
  },
  {
   "cell_type": "code",
   "execution_count": 10,
   "id": "255a248e",
   "metadata": {},
   "outputs": [
    {
     "name": "stdout",
     "output_type": "stream",
     "text": [
      "<class 'str'>\n",
      "156\n",
      "<class 'int'>\n",
      "156\n",
      "<class 'float'>\n",
      "156.0\n",
      "<class 'str'>\n",
      "156.0\n"
     ]
    }
   ],
   "source": [
    "a=\"156\"\n",
    "print(type(a))\n",
    "print(a)\n",
    "a=int(a)\n",
    "print(type(a))\n",
    "print(a)\n",
    "a=float(a)\n",
    "print(type(a))\n",
    "print(a)\n",
    "a=str(a)\n",
    "print(type(a))\n",
    "print(a)\n"
   ]
  },
  {
   "cell_type": "markdown",
   "id": "ad284051",
   "metadata": {},
   "source": [
    "# Exercise Print Command:\n",
    "# Print Your Name and Age\n",
    "# Print Text on Multiple Lines\n",
    "# Print Using Variables"
   ]
  },
  {
   "cell_type": "code",
   "execution_count": 11,
   "id": "9d92f8c2",
   "metadata": {},
   "outputs": [
    {
     "name": "stdout",
     "output_type": "stream",
     "text": [
      "My name is Ali.\n",
      "I am 25 years old.\n",
      "My name is Ahmed. \n",
      " I am 27 years old.\n"
     ]
    }
   ],
   "source": [
    "name=\"My name is Ali.\\nI am 25 years old.\"\n",
    "print(name)\n",
    "name=\"My name is Ahmed. \\n I am 27 years old.\"\n",
    "print(name)"
   ]
  },
  {
   "cell_type": "markdown",
   "id": "7f04cc5d",
   "metadata": {},
   "source": [
    "# Exercise"
   ]
  },
  {
   "cell_type": "markdown",
   "id": "53efbf80",
   "metadata": {},
   "source": [
    "# Input Command:"
   ]
  },
  {
   "cell_type": "code",
   "execution_count": 12,
   "id": "22af7e64",
   "metadata": {},
   "outputs": [
    {
     "name": "stdout",
     "output_type": "stream",
     "text": [
      "what is your name?Sadaf\n",
      "Good Morning Sadaf !\n"
     ]
    }
   ],
   "source": [
    "name= input(\"what is your name?\")\n",
    "print(\"Good Morning\", name, \"!\")"
   ]
  },
  {
   "cell_type": "code",
   "execution_count": 15,
   "id": "db3ac8b2",
   "metadata": {},
   "outputs": [
    {
     "name": "stdout",
     "output_type": "stream",
     "text": [
      "Enter 1st number:45\n",
      "Enter 2nd number:55\n",
      "Sum is: 100\n"
     ]
    }
   ],
   "source": [
    "num1=int(input(\"Enter 1st number:\"))\n",
    "num2=int(input(\"Enter 2nd number:\"))\n",
    "sum=num1+num2\n",
    "print(\"Sum is:\", sum)"
   ]
  },
  {
   "cell_type": "code",
   "execution_count": 14,
   "id": "d21e473d",
   "metadata": {},
   "outputs": [
    {
     "name": "stdout",
     "output_type": "stream",
     "text": [
      "what is your name?Maryam\n",
      "Good Morning Maryam !\n"
     ]
    }
   ],
   "source": [
    "name= input(\"what is your name?\")\n",
    "print(\"Good Morning\", name, \"!\")"
   ]
  },
  {
   "cell_type": "code",
   "execution_count": 17,
   "id": "cd8ba64d",
   "metadata": {},
   "outputs": [
    {
     "name": "stdout",
     "output_type": "stream",
     "text": [
      "sum is 110\n"
     ]
    }
   ],
   "source": [
    "num1=int(num1)\n",
    "num2=int(num2)\n",
    "sum=num1+num2\n",
    "print(\"sum is\", sum)"
   ]
  },
  {
   "cell_type": "code",
   "execution_count": 18,
   "id": "06f40b7a",
   "metadata": {},
   "outputs": [
    {
     "name": "stdout",
     "output_type": "stream",
     "text": [
      "Enter 1st number5\n",
      "Enter 2nd number6\n",
      "25\n",
      "36\n"
     ]
    }
   ],
   "source": [
    "num1=int(input(\"Enter 1st number\"))\n",
    "num2=int(input(\"Enter 2nd number\"))\n",
    "print(num1**2)\n",
    "print(num2**2)"
   ]
  },
  {
   "cell_type": "code",
   "execution_count": null,
   "id": "bf047af0",
   "metadata": {},
   "outputs": [],
   "source": []
  }
 ],
 "metadata": {
  "kernelspec": {
   "display_name": "Python 3 (ipykernel)",
   "language": "python",
   "name": "python3"
  },
  "language_info": {
   "codemirror_mode": {
    "name": "ipython",
    "version": 3
   },
   "file_extension": ".py",
   "mimetype": "text/x-python",
   "name": "python",
   "nbconvert_exporter": "python",
   "pygments_lexer": "ipython3",
   "version": "3.11.4"
  }
 },
 "nbformat": 4,
 "nbformat_minor": 5
}
