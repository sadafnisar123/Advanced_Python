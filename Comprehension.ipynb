{
 "cells": [
  {
   "cell_type": "code",
   "execution_count": 1,
   "id": "12e99aa7",
   "metadata": {},
   "outputs": [
    {
     "name": "stdout",
     "output_type": "stream",
     "text": [
      "[0, 1, 4, 9, 16]\n"
     ]
    }
   ],
   "source": [
    "#Traditional Method\n",
    "result=[]\n",
    "for i in range(5):\n",
    "    result.append(i**2)\n",
    "print(result)"
   ]
  },
  {
   "cell_type": "code",
   "execution_count": 26,
   "id": "4fb721f8",
   "metadata": {},
   "outputs": [
    {
     "name": "stdout",
     "output_type": "stream",
     "text": [
      "['APPLE', 'BANANA', 'CHERRY']\n"
     ]
    }
   ],
   "source": [
    "#List Comprehension\n",
    "fruits= [\"apple\", \"banana\", \"cherry\"]\n",
    "upper_fruits=[fruit.upper() for fruit in fruits]\n",
    "print(upper_fruits)\n"
   ]
  },
  {
   "cell_type": "code",
   "execution_count": 15,
   "id": "1dfcbf6c",
   "metadata": {},
   "outputs": [
    {
     "name": "stdout",
     "output_type": "stream",
     "text": [
      "[3, 6, 9, 12, 15]\n"
     ]
    }
   ],
   "source": [
    "numbers= [1, 2, 3, 4, 5]\n",
    "multiples= [n*3 for n in numbers]\n",
    "print(multiples)"
   ]
  },
  {
   "cell_type": "code",
   "execution_count": 17,
   "id": "7ba0b2c1",
   "metadata": {},
   "outputs": [
    {
     "name": "stdout",
     "output_type": "stream",
     "text": [
      "[True, False, True, False, True]\n"
     ]
    }
   ],
   "source": [
    "num=[4, 5, 6, 7, 8]\n",
    "result= [n%2==0 for n in num]\n",
    "print(result)"
   ]
  },
  {
   "cell_type": "code",
   "execution_count": 18,
   "id": "446a4699",
   "metadata": {},
   "outputs": [
    {
     "name": "stdout",
     "output_type": "stream",
     "text": [
      "[6, 2, 3]\n"
     ]
    }
   ],
   "source": [
    "words= [ \"Python\", \"is\", \"fun\"]\n",
    "length=[len(w) for w in words]\n",
    "print(length)"
   ]
  },
  {
   "cell_type": "code",
   "execution_count": 32,
   "id": "0563a9de",
   "metadata": {},
   "outputs": [
    {
     "name": "stdout",
     "output_type": "stream",
     "text": [
      "[True, False, True, False, True, False, True, False, True, False]\n"
     ]
    }
   ],
   "source": [
    "#Traditional Method\n",
    "result=[]\n",
    "for i in range(10):\n",
    "    result.append(i%2==0)\n",
    "print(result)\n"
   ]
  },
  {
   "cell_type": "code",
   "execution_count": null,
   "id": "8c146fd6",
   "metadata": {},
   "outputs": [
    {
     "name": "stdout",
     "output_type": "stream",
     "text": [
      "[0, 2, 4, 6, 8]\n"
     ]
    }
   ],
   "source": [
    "#Adding Conditions (If Statements)\n",
    "result=[]\n",
    "even_numbers= [i for i in range(10) if i%2==0]\n",
    "print(even_numbers)"
   ]
  },
  {
   "cell_type": "code",
   "execution_count": 33,
   "id": "9c463a56",
   "metadata": {},
   "outputs": [
    {
     "name": "stdout",
     "output_type": "stream",
     "text": [
      "[0]\n"
     ]
    }
   ],
   "source": [
    "result=[]\n",
    "squares=[n for n in range(10) if n**2==0]\n",
    "print(squares)"
   ]
  },
  {
   "cell_type": "code",
   "execution_count": 36,
   "id": "9efd53d2",
   "metadata": {},
   "outputs": [
    {
     "name": "stdout",
     "output_type": "stream",
     "text": [
      "[0, 'Odd', 2, 'Odd', 4]\n"
     ]
    }
   ],
   "source": [
    "#traditional Method\n",
    "numbers=[]\n",
    "for n in range(5):\n",
    "    if n%2==0:\n",
    "       numbers.append(n)\n",
    "    else:\n",
    "        numbers.append(\"Odd\")\n",
    "print(numbers)"
   ]
  },
  {
   "cell_type": "code",
   "execution_count": 37,
   "id": "5b9c7339",
   "metadata": {},
   "outputs": [
    {
     "name": "stdout",
     "output_type": "stream",
     "text": [
      "[0, 'odd', 2, 'odd', 4]\n"
     ]
    }
   ],
   "source": [
    "numbers=[]\n",
    "numbers=[n if n%2==0 else \"odd\" for n in range(5)]\n",
    "print(numbers)"
   ]
  },
  {
   "cell_type": "code",
   "execution_count": 40,
   "id": "1fa4d797",
   "metadata": {},
   "outputs": [
    {
     "name": "stdout",
     "output_type": "stream",
     "text": [
      "[1, 2, 3, 4, 5, 6, 7, 8, 9]\n"
     ]
    }
   ],
   "source": [
    "#Traditional Method\n",
    "Matrix= [[1, 2, 3], [4, 5, 6], [7, 8, 9]]\n",
    "flat=[]\n",
    "for row in matrix:\n",
    "    for num in row:\n",
    "      flat.append(num)\n",
    "print(flat)"
   ]
  },
  {
   "cell_type": "code",
   "execution_count": null,
   "id": "81932245",
   "metadata": {},
   "outputs": [
    {
     "name": "stdout",
     "output_type": "stream",
     "text": [
      "[1, 2, 3, 4, 5, 6, 7, 8, 9]\n"
     ]
    }
   ],
   "source": [
    "#Nested List Comprehension\n",
    "matrix=[[1, 2, 3], [4, 5, 6], [7, 8, 9]]\n",
    "flat= [num for row in matrix for num in row]    \n",
    "print(flat)"
   ]
  },
  {
   "cell_type": "code",
   "execution_count": 41,
   "id": "1204c89f",
   "metadata": {},
   "outputs": [
    {
     "name": "stdout",
     "output_type": "stream",
     "text": [
      "[1, 2, 3, 4, 5, 2, 4, 6, 8, 10, 3, 6, 9, 12, 15, 4, 8, 12, 16, 20, 5, 10, 15, 20, 25]\n"
     ]
    }
   ],
   "source": [
    "table = [i*j for i in range(1,6) for j in range (1,6)]\n",
    "print(table)"
   ]
  },
  {
   "cell_type": "code",
   "execution_count": 42,
   "id": "ac33aa71",
   "metadata": {},
   "outputs": [
    {
     "name": "stdout",
     "output_type": "stream",
     "text": [
      "[[1, 2, 3, 4, 5], [2, 4, 6, 8, 10], [3, 6, 9, 12, 15], [4, 8, 12, 16, 20], [5, 10, 15, 20, 25]]\n"
     ]
    }
   ],
   "source": [
    "table =[[i*j for i in range(1,6)] for j in range (1,6)]\n",
    "print(table)"
   ]
  },
  {
   "cell_type": "code",
   "execution_count": null,
   "id": "2bbe7649",
   "metadata": {},
   "outputs": [
    {
     "name": "stdout",
     "output_type": "stream",
     "text": [
      "[4, 16, 4, 16]\n"
     ]
    }
   ],
   "source": [
    "#Multiple If Conditions\n",
    "numbers =[1, 2, 3, 4, 5]\n",
    "even_odd_squares= [n**2 for n in numbers if n%2==0 for n in numbers if n%2==0]\n",
    "print(even_odd_squares)"
   ]
  },
  {
   "cell_type": "code",
   "execution_count": 46,
   "id": "6bc58512",
   "metadata": {},
   "outputs": [
    {
     "name": "stdout",
     "output_type": "stream",
     "text": [
      "[[4, 16], [4, 16]]\n"
     ]
    }
   ],
   "source": [
    "numbers =[1, 2, 3, 4, 5]\n",
    "even_odd_squares= [[n**2 for n in numbers if n%2==0], [m**2 for m in numbers if m%2==0]]\n",
    "print(even_odd_squares)"
   ]
  },
  {
   "cell_type": "code",
   "execution_count": 55,
   "id": "4bc44746",
   "metadata": {},
   "outputs": [
    {
     "name": "stdout",
     "output_type": "stream",
     "text": [
      "[0, 1, 4, 9, 16]\n"
     ]
    }
   ],
   "source": [
    "#Using Functionin List Comprehension\n",
    "def square(n):\n",
    "    return n*n\n",
    "squares= [square(x) for x in range(5)]\n",
    "print(squares)\n"
   ]
  },
  {
   "cell_type": "code",
   "execution_count": 57,
   "id": "892ea6c8",
   "metadata": {},
   "outputs": [
    {
     "name": "stdout",
     "output_type": "stream",
     "text": [
      "{1, 4, 9}\n",
      "{1, 4, 9}\n"
     ]
    }
   ],
   "source": [
    "#Dictionary and Set Comprehension\n",
    "unique_squares= {x**2 for x in [1, 2, 2, 3]}\n",
    "print(unique_squares)\n",
    "\n",
    "\n",
    "#Traditional\n",
    "data_list=[1, 2, 2, 3]\n",
    "unique_squares= set()\n",
    "for x in data_list:\n",
    "    squared_value=x**2\n",
    "    unique_squares.add(squared_value)\n",
    "print(unique_squares)"
   ]
  },
  {
   "cell_type": "code",
   "execution_count": 1,
   "id": "8deeb4f5",
   "metadata": {},
   "outputs": [
    {
     "name": "stdout",
     "output_type": "stream",
     "text": [
      "Numbers: [1, 2, 3, 4, 5]\n",
      "Squares: [1, 4, 9, 16, 25]\n",
      "Even numbers: [2, 4]\n",
      "Uppercase words: ['APPLE', 'BANANA', 'CHERRY']\n",
      "Table of 2: [2, 4, 6, 8, 10]\n"
     ]
    }
   ],
   "source": [
    "# 1. Simple list of numbers\n",
    "numbers = [x for x in range(1, 6)]\n",
    "print(\"Numbers:\", numbers)\n",
    "\n",
    "# 2. Squares of numbers\n",
    "squares = [x**2 for x in numbers]\n",
    "print(\"Squares:\", squares)\n",
    "\n",
    "# 3. Even numbers only\n",
    "evens = [x for x in numbers if x % 2 == 0]\n",
    "print(\"Even numbers:\", evens)\n",
    "\n",
    "# 4. Convert words to uppercase\n",
    "words = [\"apple\", \"banana\", \"cherry\"]\n",
    "upper_words = [w.upper() for w in words]\n",
    "print(\"Uppercase words:\", upper_words)\n",
    "\n",
    "# 5. Nested list comprehension (multiplication table of 2)\n",
    "table = [2 * x for x in range(1, 6)]\n",
    "print(\"Table of 2:\", table)\n"
   ]
  },
  {
   "cell_type": "code",
   "execution_count": 2,
   "id": "482c5ee3",
   "metadata": {},
   "outputs": [
    {
     "name": "stdout",
     "output_type": "stream",
     "text": [
      "Even and greater than 10: [12, 18, 24, 30, 50]\n",
      "Divisible by 3 and less than 25: [12, 18, 24, 3, 9]\n",
      "Odd or greater than 40: [5, 7, 41, 50, 3, 9]\n",
      "Squares of even numbers > 10: [144, 324, 576, 900, 2500]\n"
     ]
    }
   ],
   "source": [
    "# 1. List of numbers\n",
    "numbers = [5, 12, 18, 7, 24, 30, 41, 50, 3, 9]\n",
    "\n",
    "# 2. Filter numbers that are even AND greater than 10\n",
    "even_and_gt10 = [x for x in numbers if x % 2 == 0 if x > 10]\n",
    "print(\"Even and greater than 10:\", even_and_gt10)\n",
    "\n",
    "# 3. Filter numbers divisible by 3 but less than 25\n",
    "div3_lt25 = [x for x in numbers if x % 3 == 0 if x < 25]\n",
    "print(\"Divisible by 3 and less than 25:\", div3_lt25)\n",
    "\n",
    "# 4. Filter numbers that are odd OR greater than 40\n",
    "odd_or_gt40 = [x for x in numbers if (x % 2 != 0 or x > 40)]\n",
    "print(\"Odd or greater than 40:\", odd_or_gt40)\n",
    "\n",
    "# 5. Square only the numbers > 10 and even\n",
    "squares = [x**2 for x in numbers if x > 10 if x % 2 == 0]\n",
    "print(\"Squares of even numbers > 10:\", squares)\n"
   ]
  },
  {
   "cell_type": "code",
   "execution_count": null,
   "id": "8395f644",
   "metadata": {},
   "outputs": [],
   "source": []
  }
 ],
 "metadata": {
  "kernelspec": {
   "display_name": "Python 3",
   "language": "python",
   "name": "python3"
  },
  "language_info": {
   "codemirror_mode": {
    "name": "ipython",
    "version": 3
   },
   "file_extension": ".py",
   "mimetype": "text/x-python",
   "name": "python",
   "nbconvert_exporter": "python",
   "pygments_lexer": "ipython3",
   "version": "3.13.7"
  }
 },
 "nbformat": 4,
 "nbformat_minor": 5
}
