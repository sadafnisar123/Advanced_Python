{
 "cells": [
  {
   "cell_type": "markdown",
   "id": "d78fd2d8",
   "metadata": {},
   "source": [
    "# Practice on List and then main Topic Set"
   ]
  },
  {
   "cell_type": "code",
   "execution_count": 65,
   "id": "3d03fb98",
   "metadata": {},
   "outputs": [
    {
     "name": "stdout",
     "output_type": "stream",
     "text": [
      "[1, 2, 3, 4, 5]\n"
     ]
    }
   ],
   "source": [
    "list_1 =[1, 2, 3, 4]\n",
    "list_1.append(5)\n",
    "print(list_1)"
   ]
  },
  {
   "cell_type": "code",
   "execution_count": 66,
   "id": "c4440844",
   "metadata": {},
   "outputs": [
    {
     "name": "stdout",
     "output_type": "stream",
     "text": [
      "['A', 'B', 'C']\n"
     ]
    }
   ],
   "source": [
    "list_2= [\"A\",\"B\", \"C\", \"D\"]\n",
    "list_2.pop()\n",
    "print(list_2)"
   ]
  },
  {
   "cell_type": "code",
   "execution_count": 67,
   "id": "83c44922",
   "metadata": {},
   "outputs": [
    {
     "name": "stdout",
     "output_type": "stream",
     "text": [
      "['A', 3, 'C']\n"
     ]
    }
   ],
   "source": [
    "list_2= [\"A\",3, \"C\", 4]\n",
    "list_2.pop(3)\n",
    "print(list_2)"
   ]
  },
  {
   "cell_type": "code",
   "execution_count": 68,
   "id": "237e56f2",
   "metadata": {},
   "outputs": [
    {
     "name": "stdout",
     "output_type": "stream",
     "text": [
      "['a', 'b', '5', 'c', 'd']\n"
     ]
    }
   ],
   "source": [
    "list_3= [\"a\", \"b\", \"5\", \"d\"]\n",
    "list_3.insert(3, \"c\")\n",
    "print(list_3)"
   ]
  },
  {
   "cell_type": "code",
   "execution_count": 69,
   "id": "271f6108",
   "metadata": {},
   "outputs": [
    {
     "name": "stdout",
     "output_type": "stream",
     "text": [
      "[1, 2, 3, 5, 6, 7]\n"
     ]
    }
   ],
   "source": [
    "list_4= [5, 3, 6, 7, 2, 1]\n",
    "list_4.sort()\n",
    "print(list_4)"
   ]
  },
  {
   "cell_type": "code",
   "execution_count": 70,
   "id": "32bff002",
   "metadata": {},
   "outputs": [
    {
     "name": "stdout",
     "output_type": "stream",
     "text": [
      "[7, 6, 5, 3, 2, 1]\n"
     ]
    }
   ],
   "source": [
    "list_4= [5, 3, 6, 7, 2, 1]\n",
    "list_4.sort(reverse=True)\n",
    "print(list_4)"
   ]
  },
  {
   "cell_type": "markdown",
   "id": "ea8413f9",
   "metadata": {},
   "source": [
    "# Set"
   ]
  },
  {
   "cell_type": "markdown",
   "id": "0cd7d5a1",
   "metadata": {},
   "source": [
    "A set is an unordered collection of unique and immutable elements. It's an abstract data type inspired by the mathematical concept of a finite set."
   ]
  },
  {
   "cell_type": "markdown",
   "id": "cfd4a3f1",
   "metadata": {},
   "source": [
    "# 1. Creating Set"
   ]
  },
  {
   "cell_type": "code",
   "execution_count": 71,
   "id": "ed325b35",
   "metadata": {},
   "outputs": [
    {
     "name": "stdout",
     "output_type": "stream",
     "text": [
      "set()\n"
     ]
    }
   ],
   "source": [
    "#Empty set\n",
    "# IMPORTANT: Use set() for an empty set, as {} creates an empty dictionary\n",
    "my_set = set()\n",
    "print(my_set) "
   ]
  },
  {
   "cell_type": "code",
   "execution_count": 72,
   "id": "5b7fefa9",
   "metadata": {},
   "outputs": [
    {
     "name": "stdout",
     "output_type": "stream",
     "text": [
      "{1, 2, 3, 4, 5}\n"
     ]
    }
   ],
   "source": [
    "# Set with Initial elements\n",
    "num_set={1, 2, 3, 4, 5}\n",
    "print(num_set)"
   ]
  },
  {
   "cell_type": "code",
   "execution_count": 73,
   "id": "2abaf87a",
   "metadata": {},
   "outputs": [
    {
     "name": "stdout",
     "output_type": "stream",
     "text": [
      "{1, 2, 3, 4, 5}\n"
     ]
    }
   ],
   "source": [
    "# Set from a list (duplicates) are automatically removed)\n",
    "my_list = [1, 2, 2, 3, 4, 4, 5]\n",
    "unique_numbers= set(my_list)\n",
    "print(unique_numbers)"
   ]
  },
  {
   "cell_type": "code",
   "execution_count": 74,
   "id": "c2ac174c",
   "metadata": {},
   "outputs": [
    {
     "name": "stdout",
     "output_type": "stream",
     "text": [
      "{1, (1, 2), 3.14, 'hello'}\n"
     ]
    }
   ],
   "source": [
    "#Set with mixed immutable data types\n",
    "mixed_set= {1, \"hello\", 3.14, True, (1,2)}\n",
    "print(mixed_set)"
   ]
  },
  {
   "cell_type": "markdown",
   "id": "a6feefb0",
   "metadata": {},
   "source": [
    "# 2. Adding Elements to a Set"
   ]
  },
  {
   "cell_type": "code",
   "execution_count": 75,
   "id": "db02ad00",
   "metadata": {},
   "outputs": [
    {
     "name": "stdout",
     "output_type": "stream",
     "text": [
      "{1, 2, 3, 4}\n",
      "{1, 2, 3, 4}\n"
     ]
    }
   ],
   "source": [
    "my_set = {1, 2, 3}\n",
    "my_set.add(4)\n",
    "print(my_set)\n",
    "\n",
    "my_set.add(2) # Trying to add a duplicate\n",
    "print(my_set) # no change in set"
   ]
  },
  {
   "cell_type": "code",
   "execution_count": 76,
   "id": "6e44e128",
   "metadata": {},
   "outputs": [
    {
     "name": "stdout",
     "output_type": "stream",
     "text": [
      "{1, 2, 3, 4, 5, 6}\n",
      "{1, 2, 3, 4, 5, 6, 7}\n"
     ]
    }
   ],
   "source": [
    "my_set= {1, 2, 3}\n",
    "my_set.update([4, 5, 6])\n",
    "print(my_set)\n",
    "\n",
    "my_set.update({5, 6, 7}) #Update with another set (duplicate ignore)\n",
    "print(my_set)"
   ]
  },
  {
   "cell_type": "markdown",
   "id": "ecc494f6",
   "metadata": {},
   "source": [
    "# Removing Elements from a Set"
   ]
  },
  {
   "cell_type": "code",
   "execution_count": 77,
   "id": "e5c2be58",
   "metadata": {},
   "outputs": [
    {
     "name": "stdout",
     "output_type": "stream",
     "text": [
      "{1, 2, 4}\n"
     ]
    }
   ],
   "source": [
    "my_set= {1, 2, 3, 4}\n",
    "my_set.remove(3)\n",
    "print(my_set)"
   ]
  },
  {
   "cell_type": "code",
   "execution_count": 78,
   "id": "6101c5ce",
   "metadata": {},
   "outputs": [
    {
     "name": "stdout",
     "output_type": "stream",
     "text": [
      "{1, 3, 4}\n",
      "{1, 3, 4}\n"
     ]
    }
   ],
   "source": [
    "my_set = {1, 2, 3, 4}\n",
    "my_set.discard(2)\n",
    "print(my_set)\n",
    "\n",
    "my_set.discard(99) # no error, simply ignore\n",
    "print(my_set)"
   ]
  },
  {
   "cell_type": "code",
   "execution_count": 79,
   "id": "f73c203b",
   "metadata": {},
   "outputs": [
    {
     "name": "stdout",
     "output_type": "stream",
     "text": [
      "Removed: 1\n"
     ]
    }
   ],
   "source": [
    "my_set= {1, 2, 3}\n",
    "removed_item = my_set.pop()\n",
    "print(f\"Removed: {removed_item}\")  # Output will vary\n"
   ]
  },
  {
   "cell_type": "code",
   "execution_count": 80,
   "id": "c25b94a2",
   "metadata": {},
   "outputs": [
    {
     "name": "stdout",
     "output_type": "stream",
     "text": [
      "{1, 2, 3, 4, 5, 6}\n",
      "{1, 2, 3, 4, 5, 6}\n",
      "{3, 4}\n",
      "{3, 4}\n",
      "{1, 2}\n",
      "{1, 2}\n",
      "{1, 2, 5, 6}\n",
      "{1, 2, 5, 6}\n"
     ]
    }
   ],
   "source": [
    "set_1= {1, 2, 3, 4}\n",
    "set_2= {3, 4, 5, 6}\n",
    "set_3= {1, 2}\n",
    "print(set_1 | set_2)\n",
    "print(set_1.union(set_2))\n",
    "\n",
    "print(set_1 & set_2)\n",
    "print(set_1.intersection(set_2))\n",
    "\n",
    "print(set_1 - set_2)\n",
    "print(set_1.difference(set_2))\n",
    "\n",
    "print(set_1 ^ set_2)\n",
    "print(set_1.symmetric_difference(set_2))"
   ]
  },
  {
   "cell_type": "code",
   "execution_count": 81,
   "id": "20f20146",
   "metadata": {},
   "outputs": [
    {
     "name": "stdout",
     "output_type": "stream",
     "text": [
      "True\n",
      "False\n"
     ]
    }
   ],
   "source": [
    "print(set_3 <= set_1)\n",
    "print(set_1.issubset(set_3))"
   ]
  },
  {
   "cell_type": "code",
   "execution_count": 82,
   "id": "02daf8f4",
   "metadata": {},
   "outputs": [
    {
     "name": "stdout",
     "output_type": "stream",
     "text": [
      "True\n",
      "False\n"
     ]
    }
   ],
   "source": [
    "print(set_1 >= set_3)\n",
    "print(set_3.issuperset(set_1))"
   ]
  },
  {
   "cell_type": "code",
   "execution_count": 83,
   "id": "aa3ca458",
   "metadata": {},
   "outputs": [
    {
     "name": "stdout",
     "output_type": "stream",
     "text": [
      "False\n",
      "True\n"
     ]
    }
   ],
   "source": [
    "set_d = {7, 8}\n",
    "print(set_1.isdisjoint(set_2)) # Output: False (they share 3, 4)\n",
    "print(set_1.isdisjoint(set_d)) # Output: True (no common elements)"
   ]
  },
  {
   "cell_type": "code",
   "execution_count": 84,
   "id": "fc24472a",
   "metadata": {},
   "outputs": [
    {
     "name": "stdout",
     "output_type": "stream",
     "text": [
      "4\n"
     ]
    }
   ],
   "source": [
    "my_set = {1, 2, 3, 4}\n",
    "print(len(my_set))"
   ]
  },
  {
   "cell_type": "code",
   "execution_count": 85,
   "id": "0d84f01b",
   "metadata": {},
   "outputs": [
    {
     "name": "stdout",
     "output_type": "stream",
     "text": [
      "True\n",
      "True\n"
     ]
    }
   ],
   "source": [
    "my_set = {\"apple\", \"banana\", \"cherry\"}\n",
    "print(\"banana\" in my_set)    \n",
    "print(\"grape\" not in my_set)"
   ]
  },
  {
   "cell_type": "code",
   "execution_count": 86,
   "id": "e22b6b49",
   "metadata": {},
   "outputs": [
    {
     "name": "stdout",
     "output_type": "stream",
     "text": [
      "[1, 2, 3]\n"
     ]
    }
   ],
   "source": [
    "\n",
    "my_list = [1, 2, 2, 3, 1]\n",
    "unique_elements = list(set(my_list)) # Convert list to set (removes duplicates), then back to list\n",
    "print(unique_elements) "
   ]
  }
 ],
 "metadata": {
  "kernelspec": {
   "display_name": "Python 3",
   "language": "python",
   "name": "python3"
  },
  "language_info": {
   "codemirror_mode": {
    "name": "ipython",
    "version": 3
   },
   "file_extension": ".py",
   "mimetype": "text/x-python",
   "name": "python",
   "nbconvert_exporter": "python",
   "pygments_lexer": "ipython3",
   "version": "3.13.7"
  }
 },
 "nbformat": 4,
 "nbformat_minor": 5
}
