{
 "cells": [
  {
   "cell_type": "markdown",
   "id": "b9e447ad-3c47-4b2a-a0aa-0ff023cc7378",
   "metadata": {},
   "source": [
    "# Tuple Methods(Unmutable)\n",
    "It cant be added, remove and updated."
   ]
  },
  {
   "cell_type": "code",
   "execution_count": 1,
   "id": "511a611b-218f-4a6e-a676-6de2c4b70fb3",
   "metadata": {},
   "outputs": [
    {
     "name": "stdout",
     "output_type": "stream",
     "text": [
      "(1, 'hello', 3.14, False)\n"
     ]
    }
   ],
   "source": [
    "mixed_tuple = (1, \"hello\", 3.14, False)\n",
    "print(mixed_tuple) "
   ]
  },
  {
   "cell_type": "code",
   "execution_count": 2,
   "id": "1b00785e-6f97-48a5-913a-18dfd65e9c17",
   "metadata": {},
   "outputs": [
    {
     "name": "stdout",
     "output_type": "stream",
     "text": [
      "((1, 2), (3, 4), (5, 6))\n"
     ]
    }
   ],
   "source": [
    "coordinates = ((1, 2), (3, 4), (5, 6))\n",
    "print(coordinates)"
   ]
  },
  {
   "cell_type": "code",
   "execution_count": 3,
   "id": "05b02567-e05f-4316-91f1-58b8faeebedb",
   "metadata": {},
   "outputs": [
    {
     "name": "stdout",
     "output_type": "stream",
     "text": [
      "apple\n",
      "cherry\n",
      "date\n"
     ]
    }
   ],
   "source": [
    "fruits_tuple = (\"apple\", \"banana\", \"cherry\", \"date\")\n",
    "\n",
    "print(fruits_tuple[0])   # Output: apple (first element)\n",
    "print(fruits_tuple[2])   # Output: cherry (third element)\n",
    "print(fruits_tuple[-1])"
   ]
  },
  {
   "cell_type": "code",
   "execution_count": 5,
   "id": "110ea3bc-d668-4001-a9d0-fa89401f8b39",
   "metadata": {},
   "outputs": [
    {
     "name": "stdout",
     "output_type": "stream",
     "text": [
      "20\n"
     ]
    }
   ],
   "source": [
    "nested_tuple = ((10, 20), (30, 40))\n",
    "print(nested_tuple[0][1]) # Output: 20 (element at tuple 0, index 1)\n"
   ]
  },
  {
   "cell_type": "code",
   "execution_count": 6,
   "id": "4ef9002d-1622-4346-8b8e-9f7e78d74917",
   "metadata": {},
   "outputs": [
    {
     "name": "stdout",
     "output_type": "stream",
     "text": [
      "(2, 3, 4, 5, 6)\n",
      "(0, 1, 2, 3, 4)\n",
      "(5, 6, 7, 8, 9)\n",
      "(0, 1, 2, 3, 4, 5, 6, 7, 8, 9)\n",
      "(0, 2, 4, 6, 8)\n",
      "(9, 8, 7, 6, 5, 4, 3, 2, 1, 0)\n"
     ]
    }
   ],
   "source": [
    "numbers_tuple = (0, 1, 2, 3, 4, 5, 6, 7, 8, 9)\n",
    "print(numbers_tuple[2:7])    \n",
    "print(numbers_tuple[:5])    \n",
    "print(numbers_tuple[5:])     \n",
    "print(numbers_tuple[:])      \n",
    "print(numbers_tuple[::2])    \n",
    "print(numbers_tuple[::-1])"
   ]
  },
  {
   "cell_type": "code",
   "execution_count": 7,
   "id": "edc56341-9687-438b-864b-bc8bdce9e111",
   "metadata": {},
   "outputs": [],
   "source": [
    "my_tuple = (1, 2, 3)\n",
    "\n",
    "# my_tuple[0] = 10  # TypeError: 'tuple' object does not support item assignment\n",
    "# my_tuple.append(4) # AttributeError: 'tuple' object has no attribute 'append'\n",
    "# my_tuple.remove(2) # AttributeError: 'tuple' object has no attribute 'remove'\n",
    "# del my_tuple[1]    # TypeError: 'tuple' object doesn't support item deletion"
   ]
  },
  {
   "cell_type": "code",
   "execution_count": 8,
   "id": "8d1e070f-5f2c-4e03-b726-15218d41aaeb",
   "metadata": {},
   "outputs": [
    {
     "name": "stdout",
     "output_type": "stream",
     "text": [
      "('a', 'a', 'a')\n"
     ]
    }
   ],
   "source": [
    "repeated_tuple = (\"a\",) * 3\n",
    "print(repeated_tuple) # Output: ('a', 'a', 'a')"
   ]
  },
  {
   "cell_type": "code",
   "execution_count": 9,
   "id": "16fef255-f271-431a-b8a8-f2922575e592",
   "metadata": {},
   "outputs": [
    {
     "name": "stdout",
     "output_type": "stream",
     "text": [
      "1\n"
     ]
    }
   ],
   "source": [
    "my_tuple = (\"a\", \"b\", \"c\")\n",
    "print(my_tuple.index(\"b\"))"
   ]
  },
  {
   "cell_type": "code",
   "execution_count": 10,
   "id": "8a0bc7d8-38ea-4f73-a63d-1a784695f959",
   "metadata": {},
   "outputs": [
    {
     "name": "stdout",
     "output_type": "stream",
     "text": [
      "3\n"
     ]
    }
   ],
   "source": [
    "my_tuple = (1, 2, 2, 3, 2)\n",
    "print(my_tuple.count(2)) "
   ]
  },
  {
   "cell_type": "code",
   "execution_count": 11,
   "id": "e5058c29-714a-4ffa-b0b7-618f98dc30e0",
   "metadata": {},
   "outputs": [
    {
     "name": "stdout",
     "output_type": "stream",
     "text": [
      "3\n"
     ]
    }
   ],
   "source": [
    "my_tuple = (10, 20, 30)\n",
    "print(len(my_tuple)) "
   ]
  },
  {
   "cell_type": "code",
   "execution_count": 12,
   "id": "027c7b1b-0779-4a90-a3b6-d7d66199fe4b",
   "metadata": {},
   "outputs": [
    {
     "name": "stdout",
     "output_type": "stream",
     "text": [
      "True\n",
      "True\n"
     ]
    }
   ],
   "source": [
    "my_tuple = (\"red\", \"green\", \"blue\")\n",
    "print(\"green\" in my_tuple)    # Output: True\n",
    "print(\"yellow\" not in my_tuple) # Output: True\n"
   ]
  },
  {
   "cell_type": "code",
   "execution_count": null,
   "id": "70c70856-87d9-4776-8751-f39f025f2945",
   "metadata": {},
   "outputs": [],
   "source": []
  }
 ],
 "metadata": {
  "kernelspec": {
   "display_name": "Python 3 (ipykernel)",
   "language": "python",
   "name": "python3"
  },
  "language_info": {
   "codemirror_mode": {
    "name": "ipython",
    "version": 3
   },
   "file_extension": ".py",
   "mimetype": "text/x-python",
   "name": "python",
   "nbconvert_exporter": "python",
   "pygments_lexer": "ipython3",
   "version": "3.13.5"
  }
 },
 "nbformat": 4,
 "nbformat_minor": 5
}
