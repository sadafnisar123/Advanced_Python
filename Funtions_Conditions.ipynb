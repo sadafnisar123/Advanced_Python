{
 "cells": [
  {
   "cell_type": "markdown",
   "id": "f87b0c2f",
   "metadata": {},
   "source": [
    "# Function"
   ]
  },
  {
   "cell_type": "markdown",
   "id": "32ad8f6c",
   "metadata": {},
   "source": [
    "# 1. Basic Function"
   ]
  },
  {
   "cell_type": "code",
   "execution_count": 20,
   "id": "8012ee45",
   "metadata": {},
   "outputs": [
    {
     "name": "stdout",
     "output_type": "stream",
     "text": [
      "Hello, welcome to Python!\n",
      "----------------------------------------\n"
     ]
    }
   ],
   "source": [
    "def greet_user():\n",
    "    print(\"Hello, welcome to Python!\")\n",
    "greet_user()\n",
    "print(\"-\" * 40)"
   ]
  },
  {
   "cell_type": "markdown",
   "id": "3ce066ab",
   "metadata": {},
   "source": [
    "# 2. Function with one parameter"
   ]
  },
  {
   "cell_type": "code",
   "execution_count": 21,
   "id": "f3fe37a9",
   "metadata": {},
   "outputs": [
    {
     "name": "stdout",
     "output_type": "stream",
     "text": [
      "Hello, Sadaf!\n",
      "----------------------------------------\n"
     ]
    }
   ],
   "source": [
    "def greet(name):\n",
    "    print(f\"Hello, {name}!\")\n",
    "greet(\"Sadaf\")\n",
    "print(\"-\" * 40)"
   ]
  },
  {
   "cell_type": "markdown",
   "id": "b940671d",
   "metadata": {},
   "source": [
    "# 3. Function with two parameters\n"
   ]
  },
  {
   "cell_type": "code",
   "execution_count": 22,
   "id": "b0144fb4",
   "metadata": {},
   "outputs": [
    {
     "name": "stdout",
     "output_type": "stream",
     "text": [
      "The sum is: 15\n",
      "----------------------------------------\n"
     ]
    }
   ],
   "source": [
    "def add_numbers(a, b):\n",
    "    print(\"The sum is:\", a + b)\n",
    "add_numbers(5, 10)\n",
    "print(\"-\" * 40)\n"
   ]
  },
  {
   "cell_type": "markdown",
   "id": "c8b064f0",
   "metadata": {},
   "source": [
    "# 4. Returning values"
   ]
  },
  {
   "cell_type": "code",
   "execution_count": 23,
   "id": "8b38c814",
   "metadata": {},
   "outputs": [
    {
     "name": "stdout",
     "output_type": "stream",
     "text": [
      "Returned Sum: 20\n",
      "----------------------------------------\n"
     ]
    }
   ],
   "source": [
    "def add_and_return(a, b):\n",
    "    return a + b\n",
    "\n",
    "result = add_and_return(8, 12)\n",
    "print(\"Returned Sum:\", result)\n",
    "print(\"-\" * 40)\n"
   ]
  },
  {
   "cell_type": "markdown",
   "id": "3c3b1a7b",
   "metadata": {},
   "source": [
    "# 5. Default parameter"
   ]
  },
  {
   "cell_type": "code",
   "execution_count": 24,
   "id": "e928ef0f",
   "metadata": {},
   "outputs": [
    {
     "name": "stdout",
     "output_type": "stream",
     "text": [
      "Hello, Ali!\n",
      "Hello, Guest!\n",
      "----------------------------------------\n"
     ]
    }
   ],
   "source": [
    "def greet_default(name=\"Guest\"):\n",
    "    print(f\"Hello, {name}!\")\n",
    "\n",
    "greet_default(\"Ali\")\n",
    "greet_default()\n",
    "print(\"-\" * 40)\n"
   ]
  },
  {
   "cell_type": "markdown",
   "id": "172fcd67",
   "metadata": {},
   "source": [
    "# 6. Multiple return values"
   ]
  },
  {
   "cell_type": "code",
   "execution_count": 25,
   "id": "cca5af37",
   "metadata": {},
   "outputs": [
    {
     "name": "stdout",
     "output_type": "stream",
     "text": [
      "Sum: 9 Product: 20\n",
      "----------------------------------------\n"
     ]
    }
   ],
   "source": [
    "def calculate(a, b):\n",
    "    return a + b, a * b\n",
    "\n",
    "sum_result, product_result = calculate(4, 5)\n",
    "print(\"Sum:\", sum_result, \"Product:\", product_result)\n",
    "print(\"-\" * 40)"
   ]
  },
  {
   "cell_type": "markdown",
   "id": "389b0b61",
   "metadata": {},
   "source": [
    "# 7. Keyword arguments"
   ]
  },
  {
   "cell_type": "code",
   "execution_count": 26,
   "id": "bbb4a1b9",
   "metadata": {},
   "outputs": [
    {
     "name": "stdout",
     "output_type": "stream",
     "text": [
      "Name: Sadaf, Age: 20, Grade: A\n",
      "----------------------------------------\n"
     ]
    }
   ],
   "source": [
    "def student_info(name, age, grade):\n",
    "    print(f\"Name: {name}, Age: {age}, Grade: {grade}\")\n",
    "\n",
    "student_info(age=20, name=\"Sadaf\", grade=\"A\")\n",
    "print(\"-\" * 40)"
   ]
  },
  {
   "cell_type": "markdown",
   "id": "a548b628",
   "metadata": {},
   "source": [
    "# 8. Function with loop"
   ]
  },
  {
   "cell_type": "code",
   "execution_count": 27,
   "id": "5dc85d30",
   "metadata": {},
   "outputs": [
    {
     "name": "stdout",
     "output_type": "stream",
     "text": [
      "1\n",
      "2\n",
      "3\n",
      "4\n",
      "5\n",
      "----------------------------------------\n"
     ]
    }
   ],
   "source": [
    "def print_numbers(n):\n",
    "    for i in range(1, n + 1):\n",
    "        print(i)\n",
    "\n",
    "print_numbers(5)\n",
    "print(\"-\" * 40)\n"
   ]
  },
  {
   "cell_type": "markdown",
   "id": "34501428",
   "metadata": {},
   "source": [
    "# 9. Function calling another function"
   ]
  },
  {
   "cell_type": "code",
   "execution_count": 28,
   "id": "42712219",
   "metadata": {},
   "outputs": [
    {
     "name": "stdout",
     "output_type": "stream",
     "text": [
      "The square is: 36\n",
      "----------------------------------------\n"
     ]
    }
   ],
   "source": [
    "def square(x):\n",
    "    return x ** 2\n",
    "\n",
    "def display_square(x):\n",
    "    print(f\"The square is: {square(x)}\")\n",
    "\n",
    "display_square(6)\n",
    "print(\"-\" * 40)"
   ]
  },
  {
   "cell_type": "markdown",
   "id": "b33f5816",
   "metadata": {},
   "source": [
    "# 10. Lambda function"
   ]
  },
  {
   "cell_type": "code",
   "execution_count": 29,
   "id": "1999f3c0",
   "metadata": {},
   "outputs": [
    {
     "name": "stdout",
     "output_type": "stream",
     "text": [
      "Cube of 3: 27\n",
      "----------------------------------------\n"
     ]
    }
   ],
   "source": [
    "cube = lambda x: x ** 3\n",
    "print(\"Cube of 3:\", cube(3))\n",
    "print(\"-\" * 40)\n"
   ]
  },
  {
   "cell_type": "markdown",
   "id": "bfa71b1b",
   "metadata": {},
   "source": [
    "# 11. Function with a list"
   ]
  },
  {
   "cell_type": "code",
   "execution_count": 32,
   "id": "1b013b0c",
   "metadata": {},
   "outputs": [
    {
     "name": "stdout",
     "output_type": "stream",
     "text": [
      "Max value in list: 9\n",
      "----------------------------------------\n"
     ]
    }
   ],
   "source": [
    "def find_max(nums):\n",
    "    return max(nums)\n",
    "nums = [2, 7, 1, 9, 3]\n",
    "print(\"Max value in list:\", find_max(nums))\n",
    "print(\"-\" * 40)"
   ]
  },
  {
   "cell_type": "markdown",
   "id": "28d9da1d",
   "metadata": {},
   "source": [
    "# 12. Recursive function"
   ]
  },
  {
   "cell_type": "code",
   "execution_count": 36,
   "id": "4e7d1d3d",
   "metadata": {},
   "outputs": [
    {
     "name": "stdout",
     "output_type": "stream",
     "text": [
      "Factorial of 5: 120\n"
     ]
    }
   ],
   "source": [
    "def factorial(n):\n",
    "    if n == 0 or n == 1:\n",
    "        return 1\n",
    "    return n * factorial(n-1)\n",
    "print(\"Factorial of 5:\", factorial(5))"
   ]
  },
  {
   "cell_type": "markdown",
   "id": "ccb8a38a",
   "metadata": {},
   "source": [
    "# 13. Function to reverse a string"
   ]
  },
  {
   "cell_type": "code",
   "execution_count": 37,
   "id": "c9c600d2",
   "metadata": {},
   "outputs": [
    {
     "name": "stdout",
     "output_type": "stream",
     "text": [
      "Reverse of 'Python': nohtyP\n",
      "----------------------------------------\n"
     ]
    }
   ],
   "source": [
    "def reverse_string(s):\n",
    "    return s[::-1]\n",
    "\n",
    "print(\"Reverse of 'Python':\", reverse_string(\"Python\"))\n",
    "print(\"-\" * 40)"
   ]
  },
  {
   "cell_type": "markdown",
   "id": "4303cfa2",
   "metadata": {},
   "source": [
    "# 14. Function with *args (variable length arguments)"
   ]
  },
  {
   "cell_type": "code",
   "execution_count": null,
   "id": "0a792ed8",
   "metadata": {},
   "outputs": [],
   "source": []
  },
  {
   "cell_type": "code",
   "execution_count": 38,
   "id": "5796730a",
   "metadata": {},
   "outputs": [
    {
     "name": "stdout",
     "output_type": "stream",
     "text": [
      "Sum of numbers: 15\n",
      "----------------------------------------\n"
     ]
    }
   ],
   "source": [
    "def sum_all(*args):\n",
    "    return sum(args)\n",
    "\n",
    "print(\"Sum of numbers:\", sum_all(1, 2, 3, 4, 5))\n",
    "print(\"-\" * 40)\n"
   ]
  },
  {
   "cell_type": "markdown",
   "id": "089fc126",
   "metadata": {},
   "source": [
    "\n",
    "# 15. Function with **kwargs (keyword arguments)"
   ]
  },
  {
   "cell_type": "code",
   "execution_count": 39,
   "id": "7c948126",
   "metadata": {},
   "outputs": [
    {
     "name": "stdout",
     "output_type": "stream",
     "text": [
      "Name: SADAF\n",
      "Age: 22\n",
      "Country: Pakistan\n",
      "----------------------------------------\n"
     ]
    }
   ],
   "source": [
    "def print_details(**kwargs):\n",
    "    for key, value in kwargs.items():\n",
    "        print(f\"{key}: {value}\")\n",
    "\n",
    "print_details(Name=\"SADAF\", Age=22, Country=\"Pakistan\")\n",
    "print(\"-\" * 40)\n"
   ]
  },
  {
   "cell_type": "markdown",
   "id": "23e5ae32",
   "metadata": {},
   "source": [
    "# 16. Function that returns a dictionary"
   ]
  },
  {
   "cell_type": "code",
   "execution_count": 40,
   "id": "ab480d97",
   "metadata": {},
   "outputs": [
    {
     "name": "stdout",
     "output_type": "stream",
     "text": [
      "Student Dictionary: {'name': 'Fawad', 'age': 22, 'grade': 'A'}\n",
      "----------------------------------------\n"
     ]
    }
   ],
   "source": [
    "def student_dict(name, age, grade):\n",
    "    return {\n",
    "        \"name\": name,\n",
    "        \"age\": age,\n",
    "        \"grade\": grade\n",
    "    }\n",
    "\n",
    "student = student_dict(\"Fawad\", 22, \"A\")\n",
    "print(\"Student Dictionary:\", student)\n",
    "print(\"-\" * 40)\n"
   ]
  },
  {
   "cell_type": "markdown",
   "id": "82a0e904",
   "metadata": {},
   "source": [
    "# 17. Menu driven program using functions"
   ]
  },
  {
   "cell_type": "code",
   "execution_count": null,
   "id": "35ad44b2",
   "metadata": {},
   "outputs": [
    {
     "name": "stdout",
     "output_type": "stream",
     "text": [
      "\n",
      "==== Calculator Menu ====\n",
      "1. Add\n",
      "2. Subtract\n",
      "3. Multiply\n",
      "4. Divide\n",
      "5. Exit\n",
      "=========================\n"
     ]
    }
   ],
   "source": [
    "# Professional Level\n",
    "def add(a, b):\n",
    "    return a + b\n",
    "\n",
    "def subtract(a, b):\n",
    "    return a - b\n",
    "\n",
    "def multiply(a, b):\n",
    "    return a * b\n",
    "\n",
    "def divide(a, b):\n",
    "    if b == 0:\n",
    "        return \"Error: Division by zero!\"\n",
    "    return a / b\n",
    "\n",
    "def menu():\n",
    "    print(\"\\n==== Calculator Menu ====\")\n",
    "    print(\"1. Add\")\n",
    "    print(\"2. Subtract\")\n",
    "    print(\"3. Multiply\")\n",
    "    print(\"4. Divide\")\n",
    "    print(\"5. Exit\")\n",
    "    print(\"=========================\")\n",
    "\n",
    "while True:\n",
    "    menu()\n",
    "    choice = input(\"Enter your choice: \")\n",
    "\n",
    "    if choice == \"5\":\n",
    "        print(\"Exiting program. Goodbye!\")\n",
    "        break\n",
    "\n",
    "    if choice in [\"1\", \"2\", \"3\", \"4\"]:\n",
    "        try:\n",
    "            num1 = float(input(\"Enter first number: \"))\n",
    "            num2 = float(input(\"Enter second number: \"))\n",
    "\n",
    "            if choice == \"1\":\n",
    "                print(\"Result:\", add(num1, num2))\n",
    "            elif choice == \"2\":\n",
    "                print(\"Result:\", subtract(num1, num2))\n",
    "            elif choice == \"3\":\n",
    "                print(\"Result:\", multiply(num1, num2))\n",
    "            elif choice == \"4\":\n",
    "                print(\"Result:\", divide(num1, num2))\n",
    "        except ValueError:\n",
    "            print(\"Invalid input! Please enter numbers only.\")\n",
    "    else:\n",
    "        print(\"Invalid choice! Please select a valid option.\")"
   ]
  },
  {
   "cell_type": "code",
   "execution_count": null,
   "id": "4dd1b715",
   "metadata": {},
   "outputs": [],
   "source": []
  }
 ],
 "metadata": {
  "kernelspec": {
   "display_name": "Python 3",
   "language": "python",
   "name": "python3"
  },
  "language_info": {
   "codemirror_mode": {
    "name": "ipython",
    "version": 3
   },
   "file_extension": ".py",
   "mimetype": "text/x-python",
   "name": "python",
   "nbconvert_exporter": "python",
   "pygments_lexer": "ipython3",
   "version": "3.13.7"
  }
 },
 "nbformat": 4,
 "nbformat_minor": 5
}
