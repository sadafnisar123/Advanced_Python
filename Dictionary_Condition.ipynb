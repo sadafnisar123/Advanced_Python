{
 "cells": [
  {
   "cell_type": "markdown",
   "id": "966ddd5c-8022-4184-999e-5136b12b50b4",
   "metadata": {},
   "source": [
    "# Dictionary Methods"
   ]
  },
  {
   "cell_type": "code",
   "execution_count": 1,
   "id": "ffaa23d7-b8d9-4be4-8398-bfcc07ddbc1d",
   "metadata": {},
   "outputs": [
    {
     "name": "stdout",
     "output_type": "stream",
     "text": [
      "{100: 'A', 75: 'B', 60: 'C'}\n"
     ]
    }
   ],
   "source": [
    "Dic_1={100:\"A\", 75:\"B\", 60:\"C\"}\n",
    "print(Dic_1)\n"
   ]
  },
  {
   "cell_type": "code",
   "execution_count": 5,
   "id": "70eac702-7879-486d-9d51-c526e5287f01",
   "metadata": {},
   "outputs": [
    {
     "name": "stdout",
     "output_type": "stream",
     "text": [
      "{'name': 'Sadaf', 'roll no': 40514183017, 'gpa': 3.5, 'dict': {'animal': 'dog', 'gender': 'male', 'distance': 45}}\n"
     ]
    }
   ],
   "source": [
    "mix_dic={\"name\": \"Sadaf\", \"roll no\":40514183017, \"gpa\":3.5, \"dict\":{\"animal\":\"dog\", \"gender\":\"male\", \"distance\":45}}\n",
    "print(mix_dic)"
   ]
  },
  {
   "cell_type": "code",
   "execution_count": 1,
   "id": "a2336d18-6c57-4c95-aa2e-0281e4f4823e",
   "metadata": {},
   "outputs": [
    {
     "name": "stdout",
     "output_type": "stream",
     "text": [
      "{'name': 'Sadaf', 'age': 25, 'city': 'Islamabad'}\n"
     ]
    }
   ],
   "source": [
    "person_1={\"name\":\"Sadaf\",\"age\":25,\"city\":\"Islamabad\"}\n",
    "print(person_1)"
   ]
  },
  {
   "cell_type": "markdown",
   "id": "9e4ee67c-b5c2-4a1e-a6d8-cb2fbd86a7bf",
   "metadata": {},
   "source": [
    "# Accessing Dictionary Values with two methods [] or .get()"
   ]
  },
  {
   "cell_type": "code",
   "execution_count": 7,
   "id": "985f110a-7ebb-416f-b17f-49d99f0fd4f4",
   "metadata": {},
   "outputs": [
    {
     "name": "stdout",
     "output_type": "stream",
     "text": [
      "25\n",
      "Sadaf\n",
      "Islamabad\n"
     ]
    }
   ],
   "source": [
    "person_1={\"name\":\"Sadaf\",\"age\":25,\"city\":\"Islamabad\"}\n",
    "print(person_1[\"age\"])\n",
    "print(person_1[\"name\"])\n",
    "print(person_1[\"city\"])"
   ]
  },
  {
   "cell_type": "code",
   "execution_count": 13,
   "id": "55be42ad-ffce-4b2e-9cf0-2ab6a65f231f",
   "metadata": {},
   "outputs": [
    {
     "name": "stdout",
     "output_type": "stream",
     "text": [
      "Sadaf\n",
      "25\n",
      "Islamabad\n",
      "None\n"
     ]
    }
   ],
   "source": [
    "#using .get() Method\n",
    "person_1={\"name\":\"Sadaf\",\"age\":25,\"city\":\"Islamabad\"}\n",
    "print(person_1.get(\"name\"))\n",
    "print(person_1.get(\"age\"))\n",
    "print(person_1.get(\"city\"))\n",
    "print(person_1.get(\"country\"))\n"
   ]
  },
  {
   "cell_type": "code",
   "execution_count": 14,
   "id": "47e80954-5613-44ca-8e2f-a71927c39381",
   "metadata": {},
   "outputs": [
    {
     "name": "stdout",
     "output_type": "stream",
     "text": [
      "{'type': 'dog', 'breed': 'labrador', 'age': 5}\n",
      "{'type': 'Sunflower', 'source': 'Sun', 'home': 'Nursery'}\n"
     ]
    }
   ],
   "source": [
    "#Dictionary using dic()\n",
    "animals= dict(type= \"dog\", breed= \"labrador\", age= 5)\n",
    "print(animals)\n",
    "plant=dict(type=\"Sunflower\", source=\"Sun\", home=\"Nursery\")\n",
    "print(plant)"
   ]
  },
  {
   "cell_type": "markdown",
   "id": "21c6ef43-325d-4a6a-a0e4-1c9c823ae559",
   "metadata": {},
   "source": [
    "# Modifying Dictionary Values"
   ]
  },
  {
   "cell_type": "code",
   "execution_count": 16,
   "id": "8fb08fb2-eeaa-429f-ad52-4323df30e8a4",
   "metadata": {},
   "outputs": [
    {
     "name": "stdout",
     "output_type": "stream",
     "text": [
      "{'name': 'Sadaf', 'age': 30, 'city': 'Islamabad'}\n"
     ]
    }
   ],
   "source": [
    "person_1={\"name\":\"Sadaf\",\"age\":25,\"city\":\"Islamabad\"}\n",
    "person_1[\"age\"]= 30\n",
    "print(person_1)"
   ]
  },
  {
   "cell_type": "code",
   "execution_count": 17,
   "id": "19c96e77-f999-471f-aac7-8a51e0bb143b",
   "metadata": {},
   "outputs": [
    {
     "name": "stdout",
     "output_type": "stream",
     "text": [
      "{'name': 'Sadaf', 'age': 30, 'city': 'Islamabad', 'occupation': 'Mathematician'}\n"
     ]
    }
   ],
   "source": [
    "person_1={\"name\":\"Sadaf\",\"age\":25,\"city\":\"Islamabad\"}\n",
    "person_1[\"age\"]= 30\n",
    "person_1[\"occupation\"]= \"Mathematician\"\n",
    "print(person_1)"
   ]
  },
  {
   "cell_type": "code",
   "execution_count": 27,
   "id": "dff55d4c-7858-4bc2-a38d-0279e1cbf463",
   "metadata": {},
   "outputs": [
    {
     "name": "stdout",
     "output_type": "stream",
     "text": [
      "{'name': 'Sadaf', 'age': 25, 'occupation': 'Mathematician'}\n",
      "Islamabad\n",
      "{'name': 'Sadaf', 'age': 25, 'occupation': 'Mathematician'}\n"
     ]
    }
   ],
   "source": [
    "# two to delete dictionary values with [] or () \n",
    "person_1={\"name\":\"Sadaf\",\"age\":25,\"city\":\"Islamabad\", \"occupation\":\"Mathematician\"}\n",
    "del(person_1[\"city\"])\n",
    "print(person_1)\n",
    "\n",
    "\n",
    "person_1={\"name\":\"Sadaf\",\"age\":25,\"city\":\"Islamabad\", \"occupation\":\"Mathematician\"}\n",
    "removed_city=person_1.pop(\"city\")\n",
    "print(removed_city)\n",
    "print(person_1)\n",
    "\n",
    "\n"
   ]
  },
  {
   "cell_type": "code",
   "execution_count": 28,
   "id": "7c278a83-4c7d-4433-af1d-ebd3fa0e0f51",
   "metadata": {},
   "outputs": [
    {
     "name": "stdout",
     "output_type": "stream",
     "text": [
      "B\n",
      "{150: 'A', 110: 'C'}\n"
     ]
    }
   ],
   "source": [
    "dict_1={150: \"A\", 130: \"B\", 110: \"C\"}\n",
    "removed_130=dict_1.pop(130)\n",
    "print(removed_130)\n",
    "print(dict_1)"
   ]
  },
  {
   "cell_type": "code",
   "execution_count": 32,
   "id": "a45b476f-eefe-46fd-aa19-5b420fbd7ac4",
   "metadata": {},
   "outputs": [
    {
     "name": "stdout",
     "output_type": "stream",
     "text": [
      "('village', 'New Murree')\n",
      "{'name': 'Mehwish', 'color': 'White', 'age': 23}\n"
     ]
    }
   ],
   "source": [
    "dict_2={\"name\": \"Mehwish\", \"color\": \"White\", \"age\": 23, \"village\": \"New Murree\"}\n",
    "last_item= dict_2.popitem()\n",
    "print(last_item)\n",
    "print(dict_2)"
   ]
  },
  {
   "cell_type": "code",
   "execution_count": 35,
   "id": "e5b43b02-0de4-4b5f-be69-82fe35850db9",
   "metadata": {},
   "outputs": [
    {
     "name": "stdout",
     "output_type": "stream",
     "text": [
      "{}\n",
      "0\n"
     ]
    }
   ],
   "source": [
    "dict_2={\"name\": \"Mehwish\", \"color\": \"White\", \"age\": 23, \"village\": \"New Murree\"}\n",
    "dict_2.clear()\n",
    "print(dict_2)\n",
    "print(len(dict_2))"
   ]
  },
  {
   "cell_type": "code",
   "execution_count": 36,
   "id": "19108641-38a8-4f80-b191-390bd4e1151e",
   "metadata": {},
   "outputs": [
    {
     "name": "stdout",
     "output_type": "stream",
     "text": [
      "4\n"
     ]
    }
   ],
   "source": [
    "dict_2={\"name\": \"Mehwish\", \"color\": \"White\", \"age\": 23, \"village\": \"New Murree\"}\n",
    "print(len(dict_2))"
   ]
  },
  {
   "cell_type": "code",
   "execution_count": 37,
   "id": "2ccb9740-5f70-4701-8809-e550df17434f",
   "metadata": {},
   "outputs": [
    {
     "name": "stdout",
     "output_type": "stream",
     "text": [
      "{'name': 'Mehwish', 'age': 23, 'city': 'Islamabad', 'occupation': 'Mathematician', 'color': 'White', 'village': 'New Murree'}\n"
     ]
    }
   ],
   "source": [
    "dict_1={\"name\":\"Sadaf\",\"age\":25,\"city\":\"Islamabad\", \"occupation\":\"Mathematician\"}\n",
    "dict_2={\"name\": \"Mehwish\", \"color\": \"White\", \"age\": 23, \"village\": \"New Murree\"}\n",
    "dict_1.update(dict_2)\n",
    "print(dict_1)"
   ]
  },
  {
   "cell_type": "code",
   "execution_count": 41,
   "id": "254f4758-a812-41e5-933e-0af80667e57d",
   "metadata": {},
   "outputs": [
    {
     "name": "stdout",
     "output_type": "stream",
     "text": [
      "{'name': 'Sadaf', 'age': 25, 'city': 'Islamabad', 'occupation': 'Mathematician'}\n",
      "{'name': 'Sadaf', 'age': 23, 'city': 'Islamabad', 'occupation': 'Chemist'}\n"
     ]
    }
   ],
   "source": [
    "original_dict={\"name\":\"Sadaf\",\"age\":25,\"city\":\"Islamabad\", \"occupation\":\"Mathematician\"}\n",
    "copied_dict=original_dict.copy()\n",
    "copied_dict[\"occupation\"]= \"Chemist\"\n",
    "copied_dict[\"age\"]= 23\n",
    "print(original_dict)\n",
    "print(copied_dict)\n"
   ]
  },
  {
   "cell_type": "markdown",
   "id": "09143d8d-62f1-4f3b-9afe-2b1ff6a074c1",
   "metadata": {},
   "source": [
    "# Arthmetic Operations"
   ]
  },
  {
   "cell_type": "code",
   "execution_count": 7,
   "id": "240637b4-4de9-41ad-bf6a-278a2dc9fde7",
   "metadata": {},
   "outputs": [
    {
     "name": "stdout",
     "output_type": "stream",
     "text": [
      "11\n"
     ]
    }
   ],
   "source": [
    "a=5\n",
    "b=6\n",
    "c=a+b\n",
    "print(c)"
   ]
  },
  {
   "cell_type": "code",
   "execution_count": 8,
   "id": "0cc885cd-605e-44b0-98a1-18c5abd2d2d8",
   "metadata": {},
   "outputs": [
    {
     "name": "stdout",
     "output_type": "stream",
     "text": [
      "-5\n"
     ]
    }
   ],
   "source": [
    "a_1=10\n",
    "a_2=15\n",
    "a_3=a_1-a_2\n",
    "print(a_3)"
   ]
  },
  {
   "cell_type": "code",
   "execution_count": 9,
   "id": "be729f74-f147-4a58-8873-4820e7edc50b",
   "metadata": {},
   "outputs": [
    {
     "name": "stdout",
     "output_type": "stream",
     "text": [
      "300\n"
     ]
    }
   ],
   "source": [
    "b_1=15\n",
    "b_2=20\n",
    "b_3=b_1*b_2\n",
    "print(b_3)"
   ]
  },
  {
   "cell_type": "code",
   "execution_count": 10,
   "id": "0d2ed072-b35d-4422-a5b6-977fba57163b",
   "metadata": {},
   "outputs": [
    {
     "name": "stdout",
     "output_type": "stream",
     "text": [
      "27\n"
     ]
    }
   ],
   "source": [
    "a_1=3\n",
    "power=a_1**3\n",
    "print(power)"
   ]
  },
  {
   "cell_type": "code",
   "execution_count": 12,
   "id": "56f85cfe-65f7-458f-87c7-b81b8f062543",
   "metadata": {},
   "outputs": [
    {
     "name": "stdout",
     "output_type": "stream",
     "text": [
      "5.0\n",
      "<class 'float'>\n"
     ]
    }
   ],
   "source": [
    "a_1=15\n",
    "a_2=3\n",
    "divide=a_1/a_2\n",
    "print(divide)\n",
    "print(type(divide))"
   ]
  },
  {
   "cell_type": "code",
   "execution_count": 14,
   "id": "4d424d75-f522-4d91-bac3-927a901d7f21",
   "metadata": {},
   "outputs": [
    {
     "name": "stdout",
     "output_type": "stream",
     "text": [
      "2\n"
     ]
    }
   ],
   "source": [
    "a_1=20\n",
    "a_3=3\n",
    "modulu=a_1%a_3\n",
    "print(modulu)"
   ]
  },
  {
   "cell_type": "code",
   "execution_count": 15,
   "id": "5a0c5cec-10b3-4ce8-9ca5-79babf31145f",
   "metadata": {},
   "outputs": [
    {
     "data": {
      "text/plain": [
       "True"
      ]
     },
     "execution_count": 15,
     "metadata": {},
     "output_type": "execute_result"
    }
   ],
   "source": [
    "b_1=15\n",
    "b_2=15\n",
    "b_1==b_2"
   ]
  },
  {
   "cell_type": "code",
   "execution_count": 16,
   "id": "f5faacf1-d33d-417f-bd38-9857a3fad162",
   "metadata": {},
   "outputs": [
    {
     "data": {
      "text/plain": [
       "False"
      ]
     },
     "execution_count": 16,
     "metadata": {},
     "output_type": "execute_result"
    }
   ],
   "source": [
    "b_1=15\n",
    "b_2=20\n",
    "b_1==b_2"
   ]
  },
  {
   "cell_type": "code",
   "execution_count": 18,
   "id": "c9be7806-d4da-44eb-b089-59a16d617e40",
   "metadata": {},
   "outputs": [
    {
     "name": "stdout",
     "output_type": "stream",
     "text": [
      "8\n"
     ]
    }
   ],
   "source": [
    "num=5\n",
    "num+=3\n",
    "print(num)"
   ]
  },
  {
   "cell_type": "code",
   "execution_count": 19,
   "id": "28271645-cfb5-48c4-8a2d-ef5f981df889",
   "metadata": {},
   "outputs": [
    {
     "name": "stdout",
     "output_type": "stream",
     "text": [
      "-5\n"
     ]
    }
   ],
   "source": [
    "num=15\n",
    "num-=20\n",
    "print(num)\n"
   ]
  },
  {
   "cell_type": "code",
   "execution_count": 24,
   "id": "5ca3da39-6000-46b2-85c0-1ff6d3632882",
   "metadata": {},
   "outputs": [
    {
     "name": "stdout",
     "output_type": "stream",
     "text": [
      "8\n"
     ]
    }
   ],
   "source": [
    "#if condition is true it will give u output (The Value of a) otherwise no result\n",
    "a=8\n",
    "if a>5:\n",
    "   print(a)"
   ]
  },
  {
   "cell_type": "code",
   "execution_count": 25,
   "id": "04bfa2b7-758e-4f56-91de-c6b8904f7e04",
   "metadata": {},
   "outputs": [],
   "source": [
    "#condition is not true so output has no result.\n",
    "a=8\n",
    "if a<5:\n",
    "   print(a)"
   ]
  },
  {
   "cell_type": "code",
   "execution_count": 27,
   "id": "68ead88e-a2a6-424f-9af2-4db165299e70",
   "metadata": {},
   "outputs": [
    {
     "name": "stdout",
     "output_type": "stream",
     "text": [
      "Greater\n"
     ]
    }
   ],
   "source": [
    "a=8\n",
    "if a>5:\n",
    "    print(\"Greater\")\n",
    "else:\n",
    "    print(\"Smaller\")\n",
    "    \n",
    " "
   ]
  },
  {
   "cell_type": "code",
   "execution_count": 28,
   "id": "ccb886e1-a18e-4255-bf70-2836257224c7",
   "metadata": {},
   "outputs": [
    {
     "name": "stdout",
     "output_type": "stream",
     "text": [
      "Smaller\n"
     ]
    }
   ],
   "source": [
    "a=8\n",
    "if a<5:\n",
    "    print(\"Greater\")\n",
    "else:\n",
    "    print(\"Smaller\")"
   ]
  },
  {
   "cell_type": "code",
   "execution_count": 30,
   "id": "8920d83c-d700-4f07-af5b-c138e0785f6a",
   "metadata": {},
   "outputs": [
    {
     "name": "stdout",
     "output_type": "stream",
     "text": [
      "Grade C\n"
     ]
    }
   ],
   "source": [
    "score=75\n",
    "if score>=90:\n",
    "    print(\"Grade A\")\n",
    "elif score>=80:\n",
    "    print(\"Grade B\")\n",
    "elif score>=70:\n",
    "    print(\"Grade C\")\n",
    "else: \n",
    "    print(\"D\")\n",
    "          "
   ]
  },
  {
   "cell_type": "code",
   "execution_count": 31,
   "id": "2f58a7d3-8bcb-452b-8a3e-453bb937aa24",
   "metadata": {},
   "outputs": [
    {
     "name": "stdout",
     "output_type": "stream",
     "text": [
      "D\n"
     ]
    }
   ],
   "source": [
    "score=15\n",
    "if score>=90:\n",
    "    print(\"A\")\n",
    "elif score>=80:\n",
    "    print(\"B\")\n",
    "elif score>=70:\n",
    "    print(\"C\")\n",
    "else:\n",
    "    print(\"D\")"
   ]
  },
  {
   "cell_type": "code",
   "execution_count": 36,
   "id": "a3b54fd7-29ad-470b-be1d-8210c181c381",
   "metadata": {},
   "outputs": [
    {
     "name": "stdin",
     "output_type": "stream",
     "text": [
      "Enter my Grade 50\n"
     ]
    },
    {
     "name": "stdout",
     "output_type": "stream",
     "text": [
      "D\n"
     ]
    }
   ],
   "source": [
    "score=int(input(\"Enter my Grade\"))\n",
    "if score>=90:\n",
    "    print(\"A\")\n",
    "elif score>=80:\n",
    "    print(\"B\")\n",
    "elif score>=70:\n",
    "    print(\"C\")\n",
    "else:\n",
    "    print(\"D\")"
   ]
  },
  {
   "cell_type": "code",
   "execution_count": 40,
   "id": "d44c6fb9-f1fd-4ce3-ba5d-2058ab27da0b",
   "metadata": {},
   "outputs": [
    {
     "name": "stdin",
     "output_type": "stream",
     "text": [
      "Enter my  marks 67\n"
     ]
    },
    {
     "name": "stdout",
     "output_type": "stream",
     "text": [
      "D\n"
     ]
    }
   ],
   "source": [
    "score= int(input(\"Enter my  marks\"))\n",
    "if score>=90:\n",
    "    print(\"A\")\n",
    "elif score>=80:\n",
    "    print(\"B\")\n",
    "elif score>=70:\n",
    "    print(\"C\")\n",
    "else:\n",
    "    print(\"D\")"
   ]
  },
  {
   "cell_type": "code",
   "execution_count": null,
   "id": "d4052461-f9c0-4355-9658-7d190b91fa3a",
   "metadata": {},
   "outputs": [],
   "source": []
  }
 ],
 "metadata": {
  "kernelspec": {
   "display_name": "Python 3 (ipykernel)",
   "language": "python",
   "name": "python3"
  },
  "language_info": {
   "codemirror_mode": {
    "name": "ipython",
    "version": 3
   },
   "file_extension": ".py",
   "mimetype": "text/x-python",
   "name": "python",
   "nbconvert_exporter": "python",
   "pygments_lexer": "ipython3",
   "version": "3.13.5"
  }
 },
 "nbformat": 4,
 "nbformat_minor": 5
}
