{
 "cells": [
  {
   "cell_type": "markdown",
   "id": "73202c9c",
   "metadata": {},
   "source": [
    "# Commemting in Python:"
   ]
  },
  {
   "cell_type": "code",
   "execution_count": 1,
   "id": "1cd73f9d",
   "metadata": {},
   "outputs": [
    {
     "name": "stdout",
     "output_type": "stream",
     "text": [
      "6\n"
     ]
    }
   ],
   "source": [
    "#Program to add two numbers\n",
    "a=1\n",
    "b=5\n",
    "print (a+b)"
   ]
  },
  {
   "cell_type": "markdown",
   "id": "cdf01803",
   "metadata": {},
   "source": [
    "# Data types:"
   ]
  },
  {
   "cell_type": "code",
   "execution_count": 2,
   "id": "0539b374",
   "metadata": {},
   "outputs": [
    {
     "name": "stdout",
     "output_type": "stream",
     "text": [
      "<class 'int'>\n"
     ]
    }
   ],
   "source": [
    "# Integer data type:\n",
    "r=466\n",
    "print(type(r))"
   ]
  },
  {
   "cell_type": "code",
   "execution_count": 3,
   "id": "f24a11a0",
   "metadata": {},
   "outputs": [
    {
     "name": "stdout",
     "output_type": "stream",
     "text": [
      "My name is Sadaf\n",
      "<class 'str'>\n"
     ]
    }
   ],
   "source": [
    "# String data type:\n",
    "name= \"My name is Sadaf\"\n",
    "print(name)\n",
    "print(type(name))"
   ]
  },
  {
   "cell_type": "code",
   "execution_count": 4,
   "id": "11aa6870",
   "metadata": {},
   "outputs": [
    {
     "name": "stdout",
     "output_type": "stream",
     "text": [
      "I am living in Islamabad\n",
      "<class 'str'>\n"
     ]
    }
   ],
   "source": [
    "# String data type:\n",
    "City= \"I am living in Islamabad\"\n",
    "print(City)\n",
    "print(type(City))"
   ]
  },
  {
   "cell_type": "markdown",
   "id": "536292fd",
   "metadata": {},
   "source": [
    "# Arithematic Operations:"
   ]
  },
  {
   "cell_type": "code",
   "execution_count": 5,
   "id": "327ec916",
   "metadata": {},
   "outputs": [
    {
     "name": "stdout",
     "output_type": "stream",
     "text": [
      "80\n",
      "0\n",
      "1600\n",
      "8.333333333333334\n",
      "8\n",
      "1\n",
      "27\n"
     ]
    }
   ],
   "source": [
    "# Addition\n",
    "print(40+40)\n",
    "# Substraction\n",
    "print(40-40)\n",
    "# Multiplication\n",
    "print(40*40)\n",
    "# Division Flaot Integer Value\n",
    "print(50/6)\n",
    "# Division Integer Value\n",
    "print(50//6)\n",
    "# Modulus\n",
    "print(29%7)\n",
    "# Power\n",
    "print(3**3)\n",
    "\n"
   ]
  },
  {
   "cell_type": "markdown",
   "id": "37e46eac",
   "metadata": {},
   "source": [
    "# Assignment Operators:"
   ]
  },
  {
   "cell_type": "code",
   "execution_count": 6,
   "id": "90ca8baa",
   "metadata": {},
   "outputs": [
    {
     "name": "stdout",
     "output_type": "stream",
     "text": [
      "82\n",
      "-2\n"
     ]
    }
   ],
   "source": [
    "# Add and Assign\n",
    "a=40\n",
    "a+=42\n",
    "print(a)\n",
    "# Subtract and Assign\n",
    "a=40\n",
    "a-=42\n",
    "print(a)"
   ]
  },
  {
   "cell_type": "markdown",
   "id": "f5e6dc1f",
   "metadata": {},
   "source": [
    "# Comparison Operator:"
   ]
  },
  {
   "cell_type": "code",
   "execution_count": 7,
   "id": "86659f24",
   "metadata": {},
   "outputs": [
    {
     "name": "stdout",
     "output_type": "stream",
     "text": [
      "False\n",
      "False\n",
      "True\n"
     ]
    }
   ],
   "source": [
    "# Equal:\n",
    "print(4==5)\n",
    "# Greater or Equal:\n",
    "print(4>=5)\n",
    "# Lesser and Equal:\n",
    "print(4<=5)\n"
   ]
  },
  {
   "cell_type": "markdown",
   "id": "438f0d3c",
   "metadata": {},
   "source": [
    "# Logical Operators:\n"
   ]
  },
  {
   "cell_type": "code",
   "execution_count": 8,
   "id": "04ea99b5",
   "metadata": {},
   "outputs": [
    {
     "name": "stdout",
     "output_type": "stream",
     "text": [
      "Hello\n",
      "Hey\n",
      "False\n",
      "Morning\n",
      "Morning\n",
      "False\n"
     ]
    }
   ],
   "source": [
    "# And\n",
    "print(\"Hello\" and \"Hello\" )\n",
    "# And\n",
    "print(\"Hello\" and \"Hey\")\n",
    "# And\n",
    "print(4==5 and 4<=5)\n",
    "# OR\n",
    "print(\"Morning\" or \"Morning\")\n",
    "print(\"Morning\" or \"Evening\")\n",
    "print(4==5 or 4>=5)"
   ]
  },
  {
   "cell_type": "markdown",
   "id": "5913f3d4",
   "metadata": {},
   "source": [
    "# Implicit Data Type Conversion:"
   ]
  },
  {
   "cell_type": "code",
   "execution_count": 9,
   "id": "17abcb6b",
   "metadata": {},
   "outputs": [
    {
     "name": "stdout",
     "output_type": "stream",
     "text": [
      "365.723\n",
      "4.0\n",
      "0.05\n"
     ]
    }
   ],
   "source": [
    "print(45.723+320)\n",
    "print(20/5)\n",
    "print(0.25/5)"
   ]
  },
  {
   "cell_type": "markdown",
   "id": "91feb74e",
   "metadata": {},
   "source": [
    "# Explicit Data Type Conversion:"
   ]
  },
  {
   "cell_type": "code",
   "execution_count": 10,
   "id": "c1ba04a3",
   "metadata": {},
   "outputs": [
    {
     "name": "stdout",
     "output_type": "stream",
     "text": [
      "<class 'str'>\n",
      "156\n",
      "<class 'int'>\n",
      "156\n",
      "<class 'float'>\n",
      "156.0\n",
      "<class 'str'>\n",
      "156.0\n",
      "<class 'str'>\n",
      "Sadaf\n",
      "<class 'str'>\n",
      "Sadaf\n",
      "<class 'int'>\n",
      "159\n",
      "<class 'int'>\n",
      "159\n",
      "<class 'float'>\n",
      "159.0\n",
      "<class 'str'>\n",
      "159.0\n"
     ]
    }
   ],
   "source": [
    "a=\"156\"\n",
    "print(type(a))\n",
    "print(a)\n",
    "a=int(a)\n",
    "print(type(a))\n",
    "print(a)\n",
    "a=float(a)\n",
    "print(type(a))\n",
    "print(a)\n",
    "a=str(a)\n",
    "print(type(a))\n",
    "print(a)\n",
    "# all exist\n",
    "\n",
    "b=\"Sadaf\"\n",
    "print(type(b))\n",
    "print(b)\n",
    "b=str(b)\n",
    "print(type(b))\n",
    "print(b)\n",
    "# interger and floating point donot exist.\n",
    "\n",
    "c=159\n",
    "print(type(c))\n",
    "print(c)\n",
    "c=int(c)\n",
    "print(type(c))\n",
    "print(c)\n",
    "c=float(c)\n",
    "print(type(c))\n",
    "print(c)\n",
    "c=str(c)\n",
    "print(type(c))\n",
    "print(c)\n",
    "# all integer, floating and string exist."
   ]
  },
  {
   "cell_type": "markdown",
   "id": "1bf7e4b8",
   "metadata": {},
   "source": [
    "# Exercise Print Command:\n",
    "# Print Your Name and Age\n",
    "# Print Text on Multiple Lines\n",
    "# Print Using Variables"
   ]
  },
  {
   "cell_type": "code",
   "execution_count": 11,
   "id": "8ea7bf9f",
   "metadata": {},
   "outputs": [
    {
     "name": "stdout",
     "output_type": "stream",
     "text": [
      "My name is Ali.\n",
      "I am 25 years old.\n",
      "My name is Ahmed. \n",
      " I am 27 years old.\n",
      "I have studied at QAU.\n",
      "I have completed my MPhil from mathematics department.\n"
     ]
    }
   ],
   "source": [
    "name=\"My name is Ali.\\nI am 25 years old.\"\n",
    "print(name)\n",
    "name=\"My name is Ahmed. \\n I am 27 years old.\"\n",
    "print(name)\n",
    "\n",
    "uni=\"I have studied at QAU.\\nI have completed my MPhil from mathematics department.\"\n",
    "print(uni)"
   ]
  },
  {
   "cell_type": "markdown",
   "id": "36be0733",
   "metadata": {},
   "source": [
    "# Exercise"
   ]
  },
  {
   "cell_type": "markdown",
   "id": "4de94283",
   "metadata": {},
   "source": [
    "# Input Command:"
   ]
  },
  {
   "cell_type": "code",
   "execution_count": 12,
   "id": "740f0931",
   "metadata": {},
   "outputs": [
    {
     "name": "stdout",
     "output_type": "stream",
     "text": [
      "what is your name?Sadaf\n",
      "Good Morning Sadaf !\n",
      "where i am living?Islamabad\n",
      "Islamabad\n",
      "First three even numbers0, 2, 4\n",
      "0, 2, 4\n",
      "Odd1, 3, 5\n",
      "1, 3, 5\n",
      "Even0, 2, 4\n",
      "0, 2, 4\n"
     ]
    }
   ],
   "source": [
    "name= input(\"what is your name?\")\n",
    "print(\"Good Morning\", name, \"!\")\n",
    "\n",
    "location=input(\"where i am living?\")\n",
    "print(location)\n",
    "\n",
    "num=input(\"First three even numbers\")\n",
    "print(num)\n",
    "\n",
    "num1=input(\"Even\" and \"Odd\")\n",
    "print(num1)\n",
    "# AND operator gives us second one.\n",
    "\n",
    "num2=input(\"Even\" or \"Odd\")\n",
    "print(num2)\n",
    "# OR operator gives us first one."
   ]
  },
  {
   "cell_type": "code",
   "execution_count": 13,
   "id": "604655ba",
   "metadata": {},
   "outputs": [
    {
     "name": "stdout",
     "output_type": "stream",
     "text": [
      "Enter 1st number:25\n",
      "Enter 2nd number:25\n",
      "Sum is: 50\n"
     ]
    }
   ],
   "source": [
    "num1=int(input(\"Enter 1st number:\"))\n",
    "num2=int(input(\"Enter 2nd number:\"))\n",
    "sum=num1+num2\n",
    "print(\"Sum is:\", sum)"
   ]
  },
  {
   "cell_type": "code",
   "execution_count": 14,
   "id": "8e319e8e",
   "metadata": {},
   "outputs": [
    {
     "name": "stdout",
     "output_type": "stream",
     "text": [
      "what is your name?Sadaf\n",
      "Good Morning Sadaf !\n"
     ]
    }
   ],
   "source": [
    "name= input(\"what is your name?\")\n",
    "print(\"Good Morning\", name, \"!\")"
   ]
  },
  {
   "cell_type": "code",
   "execution_count": 15,
   "id": "3f29c8b2",
   "metadata": {},
   "outputs": [
    {
     "name": "stdout",
     "output_type": "stream",
     "text": [
      "sum is 50\n"
     ]
    }
   ],
   "source": [
    "num1=int(num1)\n",
    "num2=int(num2)\n",
    "sum=num1+num2\n",
    "print(\"sum is\", sum)"
   ]
  },
  {
   "cell_type": "code",
   "execution_count": 16,
   "id": "bfaacc66",
   "metadata": {},
   "outputs": [
    {
     "name": "stdout",
     "output_type": "stream",
     "text": [
      "Enter 1st number4\n",
      "Enter 2nd number5\n",
      "16\n",
      "25\n"
     ]
    }
   ],
   "source": [
    "num1=int(input(\"Enter 1st number\"))\n",
    "num2=int(input(\"Enter 2nd number\"))\n",
    "print(num1**2)\n",
    "print(num2**2)"
   ]
  },
  {
   "cell_type": "code",
   "execution_count": 17,
   "id": "3285c877",
   "metadata": {},
   "outputs": [
    {
     "name": "stdout",
     "output_type": "stream",
     "text": [
      "Enter first number6\n",
      "Enter second number5\n",
      "multiple is 30\n"
     ]
    }
   ],
   "source": [
    "# 1st way\n",
    "num1=int(input(\"Enter first number\"))\n",
    "num2=int(input(\"Enter second number\"))\n",
    "multiple=num1*num2\n",
    "print(\"multiple is\", multiple)"
   ]
  },
  {
   "cell_type": "code",
   "execution_count": 18,
   "id": "8e3f2fd4",
   "metadata": {},
   "outputs": [
    {
     "name": "stdout",
     "output_type": "stream",
     "text": [
      "Enter first number6\n",
      "Enter second number5\n",
      "30\n"
     ]
    }
   ],
   "source": [
    "# 2nd way\n",
    "num1=int(input(\"Enter first number\"))\n",
    "num2=int(input(\"Enter second number\"))\n",
    "print(num1*num2)"
   ]
  },
  {
   "cell_type": "code",
   "execution_count": 19,
   "id": "7b183e59",
   "metadata": {},
   "outputs": [
    {
     "name": "stdout",
     "output_type": "stream",
     "text": [
      "Enter 1st number35\n",
      "Enter 2nd number4\n",
      "3\n",
      "Enter 1st number25\n",
      "Enter 2nd number5\n",
      "remainder is 0\n"
     ]
    }
   ],
   "source": [
    "a=int(input(\"Enter 1st number\"))\n",
    "b=int(input(\"Enter 2nd number\"))\n",
    "print(a%b)\n",
    "# or\n",
    "a=int(input(\"Enter 1st number\"))\n",
    "b=int(input(\"Enter 2nd number\"))\n",
    "remainder=(a%b)\n",
    "print(\"remainder is\", remainder)"
   ]
  },
  {
   "cell_type": "code",
   "execution_count": 20,
   "id": "0d1ac7b7",
   "metadata": {},
   "outputs": [
    {
     "name": "stdout",
     "output_type": "stream",
     "text": [
      "Enter 1st number42\n",
      "Enter 2nd number4\n",
      "2.0\n"
     ]
    }
   ],
   "source": [
    "a=float(input(\"Enter 1st number\"))\n",
    "b=float(input(\"Enter 2nd number\"))\n",
    "print(a%b)"
   ]
  },
  {
   "cell_type": "code",
   "execution_count": 11,
   "id": "40ecdced",
   "metadata": {},
   "outputs": [
    {
     "name": "stdout",
     "output_type": "stream",
     "text": [
      "Enter 1st number23\n",
      "Enter 2nd number45\n",
      "2345\n"
     ]
    }
   ],
   "source": [
    "a=str(input(\"Enter 1st number\"))\n",
    "b=str(input(\"Enter 2nd number\"))\n",
    "print(a+b)"
   ]
  },
  {
   "cell_type": "markdown",
   "id": "d19e85f2",
   "metadata": {},
   "source": [
    "# Extra Class"
   ]
  },
  {
   "cell_type": "code",
   "execution_count": 12,
   "id": "97199ab3",
   "metadata": {},
   "outputs": [
    {
     "name": "stdout",
     "output_type": "stream",
     "text": [
      "what is your name?\n",
      "what is your age?25\n",
      "25\n"
     ]
    }
   ],
   "source": [
    "name=input(\"what is your name?\\nwhat is your age?\")\n",
    "print(name)"
   ]
  },
  {
   "cell_type": "code",
   "execution_count": 13,
   "id": "cddd7313",
   "metadata": {},
   "outputs": [
    {
     "name": "stdout",
     "output_type": "stream",
     "text": [
      "what is your name?Sadaf Nisar\n",
      "what is your age?25\n"
     ]
    }
   ],
   "source": [
    "name=input(\"what is your name?\")\n",
    "age=input(\"what is your age?\")"
   ]
  },
  {
   "cell_type": "markdown",
   "id": "84c46ab2",
   "metadata": {},
   "source": [
    "# Slicing"
   ]
  },
  {
   "cell_type": "code",
   "execution_count": 14,
   "id": "c0ec3723",
   "metadata": {},
   "outputs": [
    {
     "name": "stdout",
     "output_type": "stream",
     "text": [
      "[2, 3]\n",
      "[6, 7]\n"
     ]
    }
   ],
   "source": [
    "a=[1, 2, 3, 4, 5]\n",
    "sliced=a[1:3]\n",
    "print(sliced)\n",
    "\n",
    "b=[5, 6, 7, 8, 9, 10]\n",
    "sliced=b[1:3]\n",
    "print(sliced)"
   ]
  },
  {
   "cell_type": "markdown",
   "id": "aeb29900",
   "metadata": {},
   "source": [
    "# String Memborship"
   ]
  },
  {
   "cell_type": "code",
   "execution_count": 15,
   "id": "272feb2b",
   "metadata": {},
   "outputs": [
    {
     "name": "stdout",
     "output_type": "stream",
     "text": [
      "True\n",
      "True\n"
     ]
    }
   ],
   "source": [
    "# in and not in\n",
    "sen=\"I am sadaf\"\n",
    "print(\"sadaf\" in sen)\n",
    "print(\"are\" not in sen)"
   ]
  },
  {
   "cell_type": "code",
   "execution_count": 22,
   "id": "13adecd0",
   "metadata": {},
   "outputs": [
    {
     "name": "stdout",
     "output_type": "stream",
     "text": [
      "['a, b, c, d']\n",
      "[7, 8, 9, 10]\n",
      "['a, b, c, d']\n"
     ]
    }
   ],
   "source": [
    "#list\n",
    "list1=[\"a, b, c, d\"]\n",
    "print(list)\n",
    "list2=[7, 8, 9, 10]\n",
    "print(list2)\n",
    "list3=['a, b, c, d']\n",
    "print(list3)"
   ]
  },
  {
   "cell_type": "code",
   "execution_count": 4,
   "id": "81554133",
   "metadata": {},
   "outputs": [
    {
     "name": "stdout",
     "output_type": "stream",
     "text": [
      "1\n",
      "[1, 2, 4, 5, 6]\n"
     ]
    }
   ],
   "source": [
    "#list[0] Acess first item\n",
    "#list.append(4) add item to end\n",
    "#listremove(a) remove item by value\n",
    "#list[1:3] slice_sublist\n",
    "\n",
    "list=[1, 2, 3, 4, 5]\n",
    "print(list[0])\n",
    "list.append(6)\n",
    "list.remove(3)\n",
    "print(list)\n",
    "\n"
   ]
  },
  {
   "cell_type": "code",
   "execution_count": null,
   "id": "5b6af49c",
   "metadata": {},
   "outputs": [],
   "source": []
  },
  {
   "cell_type": "code",
   "execution_count": null,
   "id": "95e69825",
   "metadata": {},
   "outputs": [],
   "source": []
  },
  {
   "cell_type": "code",
   "execution_count": null,
   "id": "ad42dcc2",
   "metadata": {},
   "outputs": [],
   "source": []
  }
 ],
 "metadata": {
  "kernelspec": {
   "display_name": "Python 3 (ipykernel)",
   "language": "python",
   "name": "python3"
  },
  "language_info": {
   "codemirror_mode": {
    "name": "ipython",
    "version": 3
   },
   "file_extension": ".py",
   "mimetype": "text/x-python",
   "name": "python",
   "nbconvert_exporter": "python",
   "pygments_lexer": "ipython3",
   "version": "3.11.4"
  }
 },
 "nbformat": 4,
 "nbformat_minor": 5
}
