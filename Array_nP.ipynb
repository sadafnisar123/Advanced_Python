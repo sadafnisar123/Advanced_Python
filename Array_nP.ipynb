{
 "cells": [
  {
   "cell_type": "markdown",
   "id": "707d2717",
   "metadata": {},
   "source": [
    "# Using np.array()"
   ]
  },
  {
   "cell_type": "code",
   "execution_count": null,
   "id": "4d54fe65",
   "metadata": {},
   "outputs": [],
   "source": [
    "import numpy as np\n",
    "a= np.array([1, 2, 3])   #1D\n",
    "b= np.array([[1, 2, 3], [4, 5, 6]])   #2D"
   ]
  },
  {
   "cell_type": "markdown",
   "id": "c5f5de0a",
   "metadata": {},
   "source": [
    "# Predefined Functions"
   ]
  },
  {
   "cell_type": "code",
   "execution_count": null,
   "id": "288161df",
   "metadata": {},
   "outputs": [],
   "source": [
    "np.zeros((2, 3))   #\n",
    "np.ones((2, 3))\n",
    "np.full((2, 2), 7)\n",
    "np.eye(3)"
   ]
  },
  {
   "cell_type": "code",
   "execution_count": 7,
   "id": "740684ac",
   "metadata": {},
   "outputs": [
    {
     "name": "stdout",
     "output_type": "stream",
     "text": [
      "Final mathematical result: 315.0\n"
     ]
    }
   ],
   "source": [
    "import numpy as np\n",
    "\n",
    "def matrix_operations():\n",
    "    A = np.zeros((2, 3))             # 2x3 zero matrix\n",
    "    B = np.ones((2, 3))              # 2x3 matrix of ones\n",
    "    C = np.full((2, 2), 7)           # 2x2 matrix filled with 7\n",
    "    D = np.eye(3)                    # 3x3 identity matrix\n",
    "\n",
    "    E = A + B                        # Add A and B\n",
    "    F = np.dot(C, np.array([[1, 2], [3, 4]]))  # Matrix multiplication\n",
    "    G = np.sum(E) + np.trace(D)      # Sum of all elements + trace of D\n",
    "    H = np.mean(F)                   # Mean of all elements in F\n",
    "    result = G * H                   # Combine results mathematically\n",
    "    return result\n",
    "\n",
    "print(\"Final mathematical result:\", matrix_operations())\n"
   ]
  },
  {
   "cell_type": "code",
   "execution_count": 6,
   "id": "f7080e37",
   "metadata": {},
   "outputs": [
    {
     "name": "stdout",
     "output_type": "stream",
     "text": [
      "Collecting numpy\n",
      "  Using cached numpy-2.3.3-cp313-cp313-win_amd64.whl.metadata (60 kB)\n",
      "Using cached numpy-2.3.3-cp313-cp313-win_amd64.whl (12.8 MB)\n",
      "Installing collected packages: numpy\n",
      "Successfully installed numpy-2.3.3\n",
      "Note: you may need to restart the kernel to use updated packages.\n"
     ]
    }
   ],
   "source": [
    "pip install numpy"
   ]
  },
  {
   "cell_type": "code",
   "execution_count": 9,
   "id": "05ea177a",
   "metadata": {},
   "outputs": [
    {
     "name": "stdout",
     "output_type": "stream",
     "text": [
      "Portfolio Score: 1.285\n"
     ]
    },
    {
     "name": "stderr",
     "output_type": "stream",
     "text": [
      "C:\\Users\\HP\\AppData\\Local\\Temp\\ipykernel_13436\\4282510244.py:14: DeprecationWarning: Conversion of an array with ndim > 0 to a scalar is deprecated, and will error in future. Ensure you extract a single element from your array before performing this operation. (Deprecated NumPy 1.25.)\n",
      "  risk_value = float(np.sqrt(risk))               # Convert to scalar\n"
     ]
    }
   ],
   "source": [
    "import numpy as np\n",
    "\n",
    "def portfolio_risk_model():\n",
    "    returns = np.array([0.08, 0.12, 0.10])          # Expected returns of 3 stocks\n",
    "    weights = np.full((3, 1), 1/3)                  # Equal weights using np.full\n",
    "    cov_matrix = np.eye(3) * 0.02                   # Covariance matrix (identity * 0.02)\n",
    "    risk = np.dot(weights.T, np.dot(cov_matrix, weights))  # Portfolio risk\n",
    "\n",
    "    min_invest = np.zeros((3, 1))                   # Minimum investment constraint (0)\n",
    "    max_invest = np.ones((3, 1))                    # Maximum investment constraint (1)\n",
    "    total_invest = np.sum(weights)                  # Total investment = sum of weights\n",
    "    trace_value = np.trace(cov_matrix)              # Sum of variances (trace)\n",
    "    \n",
    "    risk_value = float(np.sqrt(risk))               # Convert to scalar\n",
    "    score = (np.mean(returns) / risk_value) + trace_value  # Final score\n",
    "\n",
    "    return f\"Portfolio Score: {score:.3f}\"\n",
    "\n",
    "print(portfolio_risk_model())\n"
   ]
  },
  {
   "cell_type": "code",
   "execution_count": null,
   "id": "cd3437bb",
   "metadata": {},
   "outputs": [],
   "source": []
  }
 ],
 "metadata": {
  "kernelspec": {
   "display_name": "Python 3",
   "language": "python",
   "name": "python3"
  },
  "language_info": {
   "codemirror_mode": {
    "name": "ipython",
    "version": 3
   },
   "file_extension": ".py",
   "mimetype": "text/x-python",
   "name": "python",
   "nbconvert_exporter": "python",
   "pygments_lexer": "ipython3",
   "version": "3.13.7"
  }
 },
 "nbformat": 4,
 "nbformat_minor": 5
}
