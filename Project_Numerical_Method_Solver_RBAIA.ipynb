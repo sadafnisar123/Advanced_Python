{
 "cells": [
  {
   "cell_type": "markdown",
   "id": "805b3be6",
   "metadata": {},
   "source": [
    "# Numerical Method Solver\n",
    "This toolkit includes:\n",
    "1. Bisection Method\n",
    "2. Newton–Raphson Method\n",
    "3. Simpson’s Rule (Numerical Integration)\n",
    "4. Gauss–Seidel Method (Linear Systems)"
   ]
  },
  {
   "cell_type": "markdown",
   "id": "2249e92d",
   "metadata": {},
   "source": [
    "# Bisection Method\n",
    "Finding root by this method where f(x)=0"
   ]
  },
  {
   "cell_type": "code",
   "execution_count": null,
   "id": "801a90c6",
   "metadata": {},
   "outputs": [
    {
     "name": "stdout",
     "output_type": "stream",
     "text": [
      "Approximate root: 2.094552\n"
     ]
    }
   ],
   "source": [
    "# Simple Bisection Method in Python      \n",
    "#Finding root by this method where f(x)=0\n",
    "\n",
    "def f(x):\n",
    "    return x**3 - 2*x - 5  # Example function\n",
    "\n",
    "def bisection(a, b, tol=1e-6):\n",
    "    if f(a) * f(b) > 0:\n",
    "        print(\"No sign change in interval!\")\n",
    "        return None\n",
    "\n",
    "    while (b - a) / 2 > tol:\n",
    "        c = (a + b) / 2\n",
    "        if f(c) == 0:\n",
    "            return c\n",
    "        elif f(a) * f(c) < 0:\n",
    "            b = c\n",
    "        else:\n",
    "            a = c\n",
    "    return (a + b) / 2\n",
    "\n",
    "# Example use\n",
    "root = bisection(1, 3)\n",
    "print(\"Approximate root:\", round(root, 6))\n"
   ]
  },
  {
   "cell_type": "markdown",
   "id": "0ce9350f",
   "metadata": {},
   "source": [
    "# Newton Raphson Method\n",
    "Finding root by using this method where f(x)=0"
   ]
  },
  {
   "cell_type": "code",
   "execution_count": null,
   "id": "d6c8d59d",
   "metadata": {},
   "outputs": [
    {
     "name": "stdout",
     "output_type": "stream",
     "text": [
      "Approximate root: 2.094551\n"
     ]
    }
   ],
   "source": [
    "# Newton–Raphson Method in Python\n",
    "#Finding root by this method where f(x)=0\n",
    "\n",
    "def f(x):\n",
    "    return x**3 - 2*x - 5     # Example function\n",
    "\n",
    "def df(x):\n",
    "    return 3*x**2 - 2         # Derivative of the function\n",
    "\n",
    "def newton_raphson(x0, tol=1e-6, max_iter=50):\n",
    "    for i in range(max_iter):\n",
    "        x1 = x0 - f(x0) / df(x0)\n",
    "        if abs(x1 - x0) < tol:\n",
    "            return x1\n",
    "        x0 = x1\n",
    "    return x0\n",
    "\n",
    "# Example use\n",
    "root = newton_raphson(2.5)\n",
    "print(\"Approximate root:\", round(root, 6))\n"
   ]
  },
  {
   "cell_type": "markdown",
   "id": "946b488d",
   "metadata": {},
   "source": [
    "# Simpson's Rule\n",
    "Finding Integral(Area under the curve)\n"
   ]
  },
  {
   "cell_type": "code",
   "execution_count": null,
   "id": "50dacbe7",
   "metadata": {},
   "outputs": [
    {
     "name": "stdout",
     "output_type": "stream",
     "text": [
      "Approximate integral: 4.0\n"
     ]
    }
   ],
   "source": [
    "# Simple Simpson's Rule in Python\n",
    "#Finding Integral(Area under the curve)\n",
    "\n",
    "def f(x):\n",
    "    return x**3  # Example function\n",
    "\n",
    "def simpson(a, b, n):\n",
    "    if n % 2 != 0:\n",
    "        print(\"n must be even!\")\n",
    "        return None\n",
    "    \n",
    "    h = (b - a) / n\n",
    "    s = f(a) + f(b)\n",
    "    \n",
    "    for i in range(1, n):\n",
    "        x = a + i * h\n",
    "        s += 4 * f(x) if i % 2 != 0 else 2 * f(x)\n",
    "    \n",
    "    return (h / 3) * s\n",
    "\n",
    "# Example use\n",
    "result = simpson(0, 2, 10)\n",
    "print(\"Approximate integral:\", round(result, 6))\n"
   ]
  },
  {
   "cell_type": "markdown",
   "id": "d9b9edbb",
   "metadata": {},
   "source": [
    "# Guass Seidel Method\n"
   ]
  },
  {
   "cell_type": "code",
   "execution_count": 4,
   "id": "147c475f",
   "metadata": {},
   "outputs": [
    {
     "name": "stdout",
     "output_type": "stream",
     "text": [
      "Solution (x, y, z): [0.4832, 1.1201, 1.9274]\n"
     ]
    }
   ],
   "source": [
    "# Simple Gauss–Seidel Method in Python\n",
    "\n",
    "def gauss_seidel(a, b, tol=1e-6, max_iter=100):\n",
    "    n = len(b)\n",
    "    x = [0.0] * n  # initial guess\n",
    "\n",
    "    for _ in range(max_iter):\n",
    "        x_old = x.copy()\n",
    "        for i in range(n):\n",
    "            sum1 = sum(a[i][j] * x[j] for j in range(i))\n",
    "            sum2 = sum(a[i][j] * x_old[j] for j in range(i + 1, n))\n",
    "            x[i] = (b[i] - sum1 - sum2) / a[i][i]\n",
    "        if max(abs(x[i] - x_old[i]) for i in range(n)) < tol:\n",
    "            return x\n",
    "    return x\n",
    "\n",
    "# Example: Solve system\n",
    "# 10x + 2y + 1z = 9\n",
    "#  2x + 8y - 1z = 8\n",
    "#  1x - 1y + 5z = 9\n",
    "\n",
    "A = [\n",
    "    [10, 2, 1],\n",
    "    [2, 8, -1],\n",
    "    [1, -1, 5]\n",
    "]\n",
    "B = [9, 8, 9]\n",
    "\n",
    "solution = gauss_seidel(A, B)\n",
    "print(\"Solution (x, y, z):\", [round(val, 4) for val in solution])\n"
   ]
  },
  {
   "cell_type": "markdown",
   "id": "518dd978",
   "metadata": {},
   "source": [
    "# Random Behavior AI Agent \n",
    "Goal: AI learns by doing random actions and improving through rewards.\n",
    "Method: Based on reinforcement learning using Q-values.\n",
    "\n",
    "Formula:\n",
    "Q_new = Q_old + α * (reward - Q_old)\n",
    "\n",
    "Steps:\n",
    "1. Choose action randomly\n",
    "2. Get reward\n",
    "3. Update Q-value\n",
    "4. Repeat to learn best actions"
   ]
  },
  {
   "cell_type": "code",
   "execution_count": 2,
   "id": "134951cf",
   "metadata": {},
   "outputs": [
    {
     "name": "stdout",
     "output_type": "stream",
     "text": [
      "Try 1: Action=left, Reward=-2\n",
      "Try 2: Action=left, Reward=-2\n",
      "Try 3: Action=left, Reward=-2\n",
      "Try 4: Action=left, Reward=-2\n",
      "Try 5: Action=right, Reward=10\n",
      "\n",
      "Learned Q-values: {'left': -1.875, 'right': 5.0}\n"
     ]
    }
   ],
   "source": [
    "# Random Behavior AI Agent (Easy Version)\n",
    "\n",
    "import random\n",
    "\n",
    "# Possible actions\n",
    "actions = [\"left\", \"right\"]\n",
    "\n",
    "# Starting values (Q-values)\n",
    "Q = {\"left\": 0, \"right\": 0}\n",
    "\n",
    "alpha = 0.5  # learning rate\n",
    "\n",
    "# Function to give reward\n",
    "def get_reward(action):\n",
    "    if action == \"right\":\n",
    "        return 10   # good action\n",
    "    else:\n",
    "        return -2   # bad action\n",
    "\n",
    "# Learning loop\n",
    "for i in range(5):\n",
    "    action = random.choice(actions)       # pick random action\n",
    "    reward = get_reward(action)           # get reward\n",
    "    Q[action] = Q[action] + alpha * (reward - Q[action])  # update learning\n",
    "    print(f\"Try {i+1}: Action={action}, Reward={reward}\")\n",
    "\n",
    "# Show learned values\n",
    "print(\"\\nLearned Q-values:\", Q)\n"
   ]
  },
  {
   "cell_type": "code",
   "execution_count": null,
   "id": "fce6ac62",
   "metadata": {},
   "outputs": [],
   "source": []
  }
 ],
 "metadata": {
  "kernelspec": {
   "display_name": "Python 3",
   "language": "python",
   "name": "python3"
  },
  "language_info": {
   "codemirror_mode": {
    "name": "ipython",
    "version": 3
   },
   "file_extension": ".py",
   "mimetype": "text/x-python",
   "name": "python",
   "nbconvert_exporter": "python",
   "pygments_lexer": "ipython3",
   "version": "3.13.7"
  }
 },
 "nbformat": 4,
 "nbformat_minor": 5
}
