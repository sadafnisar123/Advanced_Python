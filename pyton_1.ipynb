{
 "cells": [
  {
   "cell_type": "code",
   "execution_count": 22,
   "id": "f458f233-5951-4eeb-91b3-2ef972151bd9",
   "metadata": {},
   "outputs": [
    {
     "name": "stdout",
     "output_type": "stream",
     "text": [
      "5\n",
      "2543444\n"
     ]
    },
    {
     "data": {
      "text/plain": [
       "int"
      ]
     },
     "execution_count": 22,
     "metadata": {},
     "output_type": "execute_result"
    }
   ],
   "source": [
    "a=5\n",
    "print(a)\n",
    "int_1=2543444\n",
    "print(int_1)\n",
    "type(int_1)\n",
    "\n",
    "\n",
    "\n",
    "\n"
   ]
  },
  {
   "cell_type": "code",
   "execution_count": 20,
   "id": "a3348d30-e7f3-4fc9-96e1-c749f5d52d44",
   "metadata": {},
   "outputs": [
    {
     "name": "stdout",
     "output_type": "stream",
     "text": [
      "0.66\n"
     ]
    }
   ],
   "source": [
    "b=0.66\n",
    "print(b)"
   ]
  },
  {
   "cell_type": "code",
   "execution_count": 17,
   "id": "6467b5c5-9db4-4b19-be8e-5555380d9e89",
   "metadata": {},
   "outputs": [
    {
     "name": "stdout",
     "output_type": "stream",
     "text": [
      "my name is Sadaf Nisar\n"
     ]
    }
   ],
   "source": [
    "str_1='my name is Sadaf Nisar'\n",
    "print(str_1)\n",
    "str_2=\"I am studing at Qau.\\nUni is in Islamabad.\"\n",
    "print(str_2)"
   ]
  },
  {
   "cell_type": "code",
   "execution_count": 19,
   "id": "dd89d71f-d92c-4d6d-9da4-e8144ac50b0b",
   "metadata": {},
   "outputs": [
    {
     "name": "stdout",
     "output_type": "stream",
     "text": [
      "[2, 4, 6, 8, 10]\n",
      "[1, 0.5, 'sadaf']\n"
     ]
    }
   ],
   "source": [
    "list_1=[2, 4, 6, 8, 10]\n",
    "print(list_1)\n",
    "list_2=[1, 0.5, 'sadaf']\n",
    "print(list_2)"
   ]
  },
  {
   "cell_type": "code",
   "execution_count": 26,
   "id": "12324cdc-1508-4621-b490-b8fb9d993145",
   "metadata": {},
   "outputs": [
    {
     "name": "stdin",
     "output_type": "stream",
     "text": [
      "my name is Sadaf: its my name\n"
     ]
    },
    {
     "name": "stdout",
     "output_type": "stream",
     "text": [
      "its my name\n"
     ]
    },
    {
     "data": {
      "text/plain": [
       "str"
      ]
     },
     "execution_count": 26,
     "metadata": {},
     "output_type": "execute_result"
    }
   ],
   "source": [
    "a_1= input('my name is Sadaf:')\n",
    "print(a_1)\n",
    "type(a_1)"
   ]
  },
  {
   "cell_type": "code",
   "execution_count": 36,
   "id": "27c1b255-93ca-4f1a-9e88-5973e16ea3c7",
   "metadata": {},
   "outputs": [
    {
     "name": "stdin",
     "output_type": "stream",
     "text": [
      "tell me your height 5.2\n"
     ]
    },
    {
     "name": "stdout",
     "output_type": "stream",
     "text": [
      "5.2\n",
      "<class 'float'>\n"
     ]
    }
   ],
   "source": [
    "height= float(input('tell me your height'))\n",
    "print(height)\n",
    "print(type(height))\n",
    "\n"
   ]
  },
  {
   "cell_type": "code",
   "execution_count": 37,
   "id": "896a7232-aaf0-45a9-a717-cbc127510f89",
   "metadata": {},
   "outputs": [
    {
     "name": "stdout",
     "output_type": "stream",
     "text": [
      "11\n"
     ]
    }
   ],
   "source": [
    "a=5\n",
    "b=6\n",
    "c=a+b\n",
    "print(c)"
   ]
  },
  {
   "cell_type": "code",
   "execution_count": 66,
   "id": "2b393765-34ae-465f-b0ea-636ef1cbab69",
   "metadata": {},
   "outputs": [
    {
     "name": "stdout",
     "output_type": "stream",
     "text": [
      "multiplication= 15\n",
      "<class 'int'>\n"
     ]
    }
   ],
   "source": [
    "a_1=12\n",
    "a_2=8\n",
    "mul=a*b\n",
    "print('multiplication=', mul)\n",
    "print(type(mul))\n"
   ]
  },
  {
   "cell_type": "code",
   "execution_count": 54,
   "id": "575cb2cb-c662-42b1-b9e1-140ae0cf67ed",
   "metadata": {},
   "outputs": [
    {
     "name": "stdout",
     "output_type": "stream",
     "text": [
      "subtraction= 0\n"
     ]
    }
   ],
   "source": [
    "b_1=15\n",
    "b_2=15\n",
    "sub=b_1-b_2\n",
    "print('subtraction=', sub)"
   ]
  },
  {
   "cell_type": "code",
   "execution_count": 59,
   "id": "8cedfbec-5568-4ce2-a172-32b1cacbd357",
   "metadata": {},
   "outputs": [
    {
     "name": "stdout",
     "output_type": "stream",
     "text": [
      "Addition = a+b = 8\n"
     ]
    }
   ],
   "source": [
    "a=5\n",
    "b=3\n",
    "c=a+b\n",
    "print('Addition =', 'a+b =', c)"
   ]
  },
  {
   "cell_type": "code",
   "execution_count": 62,
   "id": "35798d56-c517-426f-b190-8f7a6780cd73",
   "metadata": {},
   "outputs": [
    {
     "name": "stdin",
     "output_type": "stream",
     "text": [
      "What is your roll number? 40514183017\n"
     ]
    },
    {
     "name": "stdout",
     "output_type": "stream",
     "text": [
      "<class 'str'>\n"
     ]
    }
   ],
   "source": [
    "r_1=input(\"What is your roll number?\")\n",
    "print(type(r_1))\n"
   ]
  },
  {
   "cell_type": "code",
   "execution_count": 63,
   "id": "b144e7d9-d911-4a64-b883-80a1c05945bf",
   "metadata": {},
   "outputs": [
    {
     "name": "stdin",
     "output_type": "stream",
     "text": [
      "What is your roll number? 40514183017\n"
     ]
    },
    {
     "name": "stdout",
     "output_type": "stream",
     "text": [
      "<class 'int'>\n"
     ]
    }
   ],
   "source": [
    "r_1=int(input(\"What is your roll number?\"))\n",
    "print(type(r_1))\n"
   ]
  },
  {
   "cell_type": "code",
   "execution_count": 64,
   "id": "d7b16109-b4f4-477a-ac87-5c7302f106f5",
   "metadata": {},
   "outputs": [
    {
     "name": "stdin",
     "output_type": "stream",
     "text": [
      "What is your roll number? 40514183017\n"
     ]
    },
    {
     "name": "stdout",
     "output_type": "stream",
     "text": [
      "<class 'float'>\n"
     ]
    }
   ],
   "source": [
    "r_1=float(int(input(\"What is your roll number?\")))\n",
    "print(type(r_1))\n"
   ]
  },
  {
   "cell_type": "code",
   "execution_count": 65,
   "id": "aa927d1a-4bd1-4a41-95bf-05c850f83be0",
   "metadata": {},
   "outputs": [
    {
     "name": "stdin",
     "output_type": "stream",
     "text": [
      "What is your roll number? 40514183017\n"
     ]
    },
    {
     "name": "stdout",
     "output_type": "stream",
     "text": [
      "<class 'str'>\n"
     ]
    }
   ],
   "source": [
    "r_1=str(input(\"What is your roll number?\"))\n",
    "print(type(r_1))\n"
   ]
  },
  {
   "cell_type": "markdown",
   "id": "8d287ae6-9ab0-4346-857d-6a5294c652f3",
   "metadata": {},
   "source": [
    "#Index\n",
    "list_1=[1, 2, 3, 4, 5]\n",
    "list_1[2]\n",
    "print(list_1[2])"
   ]
  },
  {
   "cell_type": "code",
   "execution_count": 72,
   "id": "2e645e7c-469e-461c-834b-2c74626c2997",
   "metadata": {},
   "outputs": [
    {
     "name": "stdout",
     "output_type": "stream",
     "text": [
      "[4, 5]\n"
     ]
    }
   ],
   "source": [
    "list_1=[1, 2, 3, [4, 5]]\n",
    "list_1[3]\n",
    "print(list_1[3])"
   ]
  },
  {
   "cell_type": "code",
   "execution_count": 73,
   "id": "55e319ab-5892-4e00-802e-1d768f2895fd",
   "metadata": {},
   "outputs": [
    {
     "name": "stdout",
     "output_type": "stream",
     "text": [
      "4\n"
     ]
    }
   ],
   "source": [
    "list_1=[1, 2, 3, [4, 5]]\n",
    "list_1[3][0]\n",
    "print(list_1[3][0])"
   ]
  },
  {
   "cell_type": "code",
   "execution_count": 78,
   "id": "41a89e9d-bb06-4447-a0ed-4cb3ca4d4e35",
   "metadata": {},
   "outputs": [
    {
     "name": "stdout",
     "output_type": "stream",
     "text": [
      "Ali \n",
      "is\n",
      "my\n",
      "student\n"
     ]
    }
   ],
   "source": [
    "#Slicing\n",
    "str=\"Ali is my student\"\n",
    "str[0:4]\n",
    "print(str[0:4])\n",
    "str[4:6]\n",
    "print(str[4:6])\n",
    "str[7:9]\n",
    "print(str[7:9])\n",
    "str[10:17]\n",
    "print(str[10:17])"
   ]
  },
  {
   "cell_type": "code",
   "execution_count": 80,
   "id": "d573a81d-b0ae-4973-a953-4b0dbd0c1030",
   "metadata": {},
   "outputs": [
    {
     "name": "stdout",
     "output_type": "stream",
     "text": [
      "hello  hi\n"
     ]
    }
   ],
   "source": [
    "a='hello'\n",
    "b='hi'\n",
    "print(a, \"\", b)"
   ]
  },
  {
   "cell_type": "code",
   "execution_count": 82,
   "id": "e590ea4c-0a01-4c22-9e82-f814ad534352",
   "metadata": {},
   "outputs": [
    {
     "name": "stdin",
     "output_type": "stream",
     "text": [
      "what is your gpa 3.5\n"
     ]
    },
    {
     "name": "stdout",
     "output_type": "stream",
     "text": [
      "3.5\n",
      "<class 'str'>\n"
     ]
    }
   ],
   "source": [
    "#input function gives us str type.\n",
    "gpa=input('what is your gpa')\n",
    "print(gpa)\n",
    "print(type(gpa))"
   ]
  },
  {
   "cell_type": "code",
   "execution_count": 83,
   "id": "7b850a8f-a947-494d-8231-9654d8e4ec11",
   "metadata": {},
   "outputs": [
    {
     "name": "stdin",
     "output_type": "stream",
     "text": [
      "what is your gpa 3.5\n"
     ]
    },
    {
     "name": "stdout",
     "output_type": "stream",
     "text": [
      "3.5\n",
      "<class 'float'>\n"
     ]
    }
   ],
   "source": [
    "gpa=float(input('what is your gpa'))\n",
    "print(gpa)\n",
    "print(type(gpa))"
   ]
  },
  {
   "cell_type": "code",
   "execution_count": 89,
   "id": "d2d7a51d-266c-454c-86bc-fff319f853f2",
   "metadata": {},
   "outputs": [
    {
     "name": "stdout",
     "output_type": "stream",
     "text": [
      "(10+5j)\n",
      "<class 'complex'>\n"
     ]
    }
   ],
   "source": [
    "#complex\n",
    "a=10\n",
    "b=5j\n",
    "c=10+5j\n",
    "print(c)\n",
    "print(type(c))"
   ]
  },
  {
   "cell_type": "code",
   "execution_count": 91,
   "id": "5140b6a9-a862-4247-9a99-adc42d24b59d",
   "metadata": {},
   "outputs": [
    {
     "name": "stdout",
     "output_type": "stream",
     "text": [
      "10\n",
      "c\n",
      "4 + 6 = 10\n"
     ]
    }
   ],
   "source": [
    "a=4\n",
    "b=6\n",
    "c=4+6\n",
    "print(c)\n",
    "print('c')\n",
    "print(a, '+',b, '=', c)"
   ]
  },
  {
   "cell_type": "code",
   "execution_count": 97,
   "id": "a820a935-77b0-4f17-bbaf-7000a9e2a742",
   "metadata": {},
   "outputs": [
    {
     "name": "stdout",
     "output_type": "stream",
     "text": [
      "Addition: 15\n",
      "Addition:15\n"
     ]
    }
   ],
   "source": [
    "num_1=10\n",
    "num_2=5\n",
    "num_3=10+5\n",
    "print(\"Addition:\",num_3)\n",
    "print(f\"Addition:{num_1+num_2}\")\n",
    "\n"
   ]
  },
  {
   "cell_type": "code",
   "execution_count": null,
   "id": "328d8dcd-bb46-40d8-8114-9a3294394054",
   "metadata": {},
   "outputs": [],
   "source": []
  }
 ],
 "metadata": {
  "kernelspec": {
   "display_name": "Python 3 (ipykernel)",
   "language": "python",
   "name": "python3"
  },
  "language_info": {
   "codemirror_mode": {
    "name": "ipython",
    "version": 3
   },
   "file_extension": ".py",
   "mimetype": "text/x-python",
   "name": "python",
   "nbconvert_exporter": "python",
   "pygments_lexer": "ipython3",
   "version": "3.13.5"
  }
 },
 "nbformat": 4,
 "nbformat_minor": 5
}
